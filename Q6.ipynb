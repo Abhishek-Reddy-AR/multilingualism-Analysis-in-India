{
 "cells": [
  {
   "cell_type": "code",
   "execution_count": 1,
   "metadata": {
    "execution": {
     "iopub.execute_input": "2021-11-09T05:43:38.220226Z",
     "iopub.status.busy": "2021-11-09T05:43:38.219755Z",
     "iopub.status.idle": "2021-11-09T05:43:38.424921Z",
     "shell.execute_reply": "2021-11-09T05:43:38.424517Z"
    }
   },
   "outputs": [],
   "source": [
    "#IMPORTING REQUIRED MODULES\n",
    "\n",
    "import pandas as pd\n",
    "import warnings\n",
    "warnings.filterwarnings('ignore')"
   ]
  },
  {
   "cell_type": "code",
   "execution_count": 2,
   "metadata": {
    "execution": {
     "iopub.execute_input": "2021-11-09T05:43:38.427735Z",
     "iopub.status.busy": "2021-11-09T05:43:38.427413Z",
     "iopub.status.idle": "2021-11-09T05:43:39.600528Z",
     "shell.execute_reply": "2021-11-09T05:43:39.600180Z"
    }
   },
   "outputs": [],
   "source": [
    "#reading required data files\n",
    "\n",
    "newdf=pd.read_excel(r'DDW-C19-0000.xlsx') #POPULATION BY BILINGUALISM, TRILINGUALISM, EDUCATIONAL LEVEL AND SEX\n",
    "data=pd.read_excel('DDW-0000C-08.xlsx') #EDUCATIONAL LEVEL BY AGE AND SEX FOR POPULATION AGE 7 AND ABOVE "
   ]
  },
  {
   "cell_type": "code",
   "execution_count": 3,
   "metadata": {
    "execution": {
     "iopub.execute_input": "2021-11-09T05:43:39.603553Z",
     "iopub.status.busy": "2021-11-09T05:43:39.603233Z",
     "iopub.status.idle": "2021-11-09T05:43:39.604970Z",
     "shell.execute_reply": "2021-11-09T05:43:39.604669Z"
    }
   },
   "outputs": [],
   "source": [
    "#selecting only the required columns\n",
    "\n",
    "newdf=newdf.iloc[:,[0,2,3,4,8]]"
   ]
  },
  {
   "cell_type": "code",
   "execution_count": 4,
   "metadata": {
    "execution": {
     "iopub.execute_input": "2021-11-09T05:43:39.607375Z",
     "iopub.status.busy": "2021-11-09T05:43:39.607051Z",
     "iopub.status.idle": "2021-11-09T05:43:39.608895Z",
     "shell.execute_reply": "2021-11-09T05:43:39.608571Z"
    }
   },
   "outputs": [],
   "source": [
    "#renaming the columns\n",
    "\n",
    "newdf.columns=['statecode','state','tru','level','3.more']"
   ]
  },
  {
   "cell_type": "code",
   "execution_count": 5,
   "metadata": {
    "execution": {
     "iopub.execute_input": "2021-11-09T05:43:39.611234Z",
     "iopub.status.busy": "2021-11-09T05:43:39.610908Z",
     "iopub.status.idle": "2021-11-09T05:43:39.612777Z",
     "shell.execute_reply": "2021-11-09T05:43:39.612453Z"
    }
   },
   "outputs": [],
   "source": [
    "#removing the rows that contain metadata\n",
    "\n",
    "newdf=newdf.iloc[5:-3,:]"
   ]
  },
  {
   "cell_type": "code",
   "execution_count": 6,
   "metadata": {
    "execution": {
     "iopub.execute_input": "2021-11-09T05:43:39.616299Z",
     "iopub.status.busy": "2021-11-09T05:43:39.615657Z",
     "iopub.status.idle": "2021-11-09T05:43:39.617898Z",
     "shell.execute_reply": "2021-11-09T05:43:39.617618Z"
    }
   },
   "outputs": [],
   "source": [
    "#selecting rows that have level as one of the literacy groups\n",
    "\n",
    "newdf=newdf[newdf['level']!='Total']\n",
    "newdf=newdf[newdf['level']!='Literate']\n",
    "\n",
    "#selecting rows that have tru as total\n",
    "\n",
    "newdf=newdf[newdf['tru']=='Total']"
   ]
  },
  {
   "cell_type": "code",
   "execution_count": 7,
   "metadata": {
    "execution": {
     "iopub.execute_input": "2021-11-09T05:43:39.620484Z",
     "iopub.status.busy": "2021-11-09T05:43:39.620163Z",
     "iopub.status.idle": "2021-11-09T05:43:39.621900Z",
     "shell.execute_reply": "2021-11-09T05:43:39.621571Z"
    }
   },
   "outputs": [],
   "source": [
    "#removing tru column\n",
    "\n",
    "newdf=newdf.iloc[:,[0,3,4]]"
   ]
  },
  {
   "cell_type": "code",
   "execution_count": 8,
   "metadata": {
    "execution": {
     "iopub.execute_input": "2021-11-09T05:43:39.625264Z",
     "iopub.status.busy": "2021-11-09T05:43:39.623332Z",
     "iopub.status.idle": "2021-11-09T05:43:39.627000Z",
     "shell.execute_reply": "2021-11-09T05:43:39.626662Z"
    }
   },
   "outputs": [],
   "source": [
    "#selecting only the req rows and columns from 'data' dataframe\n",
    "\n",
    "data=data.iloc[6:,[1,3,4,5,9,15,18,21,24,27,30,33,36,39]]"
   ]
  },
  {
   "cell_type": "code",
   "execution_count": 9,
   "metadata": {
    "execution": {
     "iopub.execute_input": "2021-11-09T05:43:39.629720Z",
     "iopub.status.busy": "2021-11-09T05:43:39.629400Z",
     "iopub.status.idle": "2021-11-09T05:43:39.631266Z",
     "shell.execute_reply": "2021-11-09T05:43:39.630922Z"
    }
   },
   "outputs": [],
   "source": [
    "#renaming the columns\n",
    "\n",
    "data.columns=['statecode','statename','tru','age','illiterate','we','bepri','pri','mid','sec','highsec','ntd','td','gna']"
   ]
  },
  {
   "cell_type": "code",
   "execution_count": 10,
   "metadata": {
    "execution": {
     "iopub.execute_input": "2021-11-09T05:43:39.634991Z",
     "iopub.status.busy": "2021-11-09T05:43:39.634671Z",
     "iopub.status.idle": "2021-11-09T05:43:39.636174Z",
     "shell.execute_reply": "2021-11-09T05:43:39.636427Z"
    }
   },
   "outputs": [],
   "source": [
    "#selecting rows that have tru as total and age as all ages\n",
    "\n",
    "data=data[data['tru']=='Total']\n",
    "data=data[data['age']=='All ages']"
   ]
  },
  {
   "cell_type": "code",
   "execution_count": 11,
   "metadata": {
    "execution": {
     "iopub.execute_input": "2021-11-09T05:43:39.639029Z",
     "iopub.status.busy": "2021-11-09T05:43:39.638709Z",
     "iopub.status.idle": "2021-11-09T05:43:39.640849Z",
     "shell.execute_reply": "2021-11-09T05:43:39.640578Z"
    }
   },
   "outputs": [],
   "source": [
    "#removing tru and age columns\n",
    "\n",
    "data=data.iloc[:,[0,1,4,5,6,7,8,9,10,11,12,13]]"
   ]
  },
  {
   "cell_type": "code",
   "execution_count": 12,
   "metadata": {
    "execution": {
     "iopub.execute_input": "2021-11-09T05:43:39.644793Z",
     "iopub.status.busy": "2021-11-09T05:43:39.644474Z",
     "iopub.status.idle": "2021-11-09T05:43:39.646154Z",
     "shell.execute_reply": "2021-11-09T05:43:39.645830Z"
    }
   },
   "outputs": [],
   "source": [
    "#combining various literacy clases into one class to make them consistent across files\n",
    "\n",
    "# combined below primary and literate without education level into below primary\n",
    "\n",
    "data['bepri']=data['we']+data['bepri']\n",
    "\n",
    "#combined secondary,higher secondary, non technical diploma and technical diploma into secondary\n",
    "\n",
    "data['sec']=data['sec']+data['highsec']+data['ntd']+data['td']\n",
    "\n",
    "#selecting only the required columns\n",
    "\n",
    "data=data.iloc[:,[0,2,4,5,6,7,11]]"
   ]
  },
  {
   "cell_type": "code",
   "execution_count": 13,
   "metadata": {
    "execution": {
     "iopub.execute_input": "2021-11-09T05:43:39.648578Z",
     "iopub.status.busy": "2021-11-09T05:43:39.648264Z",
     "iopub.status.idle": "2021-11-09T05:43:39.649960Z",
     "shell.execute_reply": "2021-11-09T05:43:39.649634Z"
    }
   },
   "outputs": [],
   "source": [
    "#creating a new dataframe\n",
    "\n",
    "newdata=pd.DataFrame()"
   ]
  },
  {
   "cell_type": "code",
   "execution_count": 14,
   "metadata": {
    "execution": {
     "iopub.execute_input": "2021-11-09T05:43:39.678844Z",
     "iopub.status.busy": "2021-11-09T05:43:39.664829Z",
     "iopub.status.idle": "2021-11-09T05:43:39.952351Z",
     "shell.execute_reply": "2021-11-09T05:43:39.952030Z"
    }
   },
   "outputs": [],
   "source": [
    "#converting literacy subgroup values which are as columns into rows of new data\n",
    "\n",
    "for i in range(len(data)):\n",
    "    for j in range(6):\n",
    "        newdata=newdata.append(pd.Series([data.iloc[i,0],data.iloc[i,j+1]]),ignore_index=True)\n",
    "        \n",
    "#naming the columns of newdata dataframe\n",
    "\n",
    "newdata.columns=['statecode','pop']\n",
    "\n",
    "#adding column 'level' to new data to detct which literacy group that row belongs to\n",
    "\n",
    "newdata['level']='a'\n",
    "l=['Illiterate','Literate but below primary','Primary but below middle','Middle but below matric/secondary','Matric/Secondary but below graduate','Graduate and above']\n",
    "count=0\n",
    "for i in range(len(newdata)):\n",
    "    newdata.iloc[i,2]=l[count]\n",
    "    count=(count+1)%6"
   ]
  },
  {
   "cell_type": "code",
   "execution_count": 15,
   "metadata": {
    "execution": {
     "iopub.execute_input": "2021-11-09T05:43:39.956913Z",
     "iopub.status.busy": "2021-11-09T05:43:39.956587Z",
     "iopub.status.idle": "2021-11-09T05:43:39.958435Z",
     "shell.execute_reply": "2021-11-09T05:43:39.958103Z"
    }
   },
   "outputs": [],
   "source": [
    "#merging newdf and newdata\n",
    "\n",
    "merged=pd.merge(newdf,newdata)"
   ]
  },
  {
   "cell_type": "code",
   "execution_count": 16,
   "metadata": {
    "execution": {
     "iopub.execute_input": "2021-11-09T05:43:39.964400Z",
     "iopub.status.busy": "2021-11-09T05:43:39.963898Z",
     "iopub.status.idle": "2021-11-09T05:43:39.966102Z",
     "shell.execute_reply": "2021-11-09T05:43:39.965771Z"
    }
   },
   "outputs": [
    {
     "data": {
      "text/plain": [
       "Index(['statecode', 'level', '3.more', 'pop'], dtype='object')"
      ]
     },
     "execution_count": 16,
     "metadata": {},
     "output_type": "execute_result"
    }
   ],
   "source": [
    "#printing the columns present in merged data frame\n",
    "\n",
    "merged.columns"
   ]
  },
  {
   "cell_type": "code",
   "execution_count": 17,
   "metadata": {
    "execution": {
     "iopub.execute_input": "2021-11-09T05:43:39.969258Z",
     "iopub.status.busy": "2021-11-09T05:43:39.968933Z",
     "iopub.status.idle": "2021-11-09T05:43:39.970522Z",
     "shell.execute_reply": "2021-11-09T05:43:39.970258Z"
    }
   },
   "outputs": [],
   "source": [
    "#converting string to numeric value\n",
    "\n",
    "merged['pop']=pd.to_numeric(merged['pop'])\n",
    "merged['3.more']=pd.to_numeric(merged['3.more'])"
   ]
  },
  {
   "cell_type": "code",
   "execution_count": 18,
   "metadata": {
    "execution": {
     "iopub.execute_input": "2021-11-09T05:43:39.973372Z",
     "iopub.status.busy": "2021-11-09T05:43:39.973031Z",
     "iopub.status.idle": "2021-11-09T05:43:39.974731Z",
     "shell.execute_reply": "2021-11-09T05:43:39.974405Z"
    }
   },
   "outputs": [],
   "source": [
    "#calculating the percentage of three of more lang sepaking people in that age group\n",
    "\n",
    "merged['percent']=merged['3.more']/merged['pop']"
   ]
  },
  {
   "cell_type": "code",
   "execution_count": 19,
   "metadata": {
    "execution": {
     "iopub.execute_input": "2021-11-09T05:43:39.977528Z",
     "iopub.status.busy": "2021-11-09T05:43:39.977204Z",
     "iopub.status.idle": "2021-11-09T05:43:39.978875Z",
     "shell.execute_reply": "2021-11-09T05:43:39.978578Z"
    }
   },
   "outputs": [],
   "source": [
    "#selecting only the required columns\n",
    "\n",
    "merged=merged.iloc[:,[0,1,-1]]"
   ]
  },
  {
   "cell_type": "code",
   "execution_count": 20,
   "metadata": {
    "execution": {
     "iopub.execute_input": "2021-11-09T05:43:39.990063Z",
     "iopub.status.busy": "2021-11-09T05:43:39.989724Z",
     "iopub.status.idle": "2021-11-09T05:43:39.991368Z",
     "shell.execute_reply": "2021-11-09T05:43:39.991084Z"
    }
   },
   "outputs": [],
   "source": [
    "#creating a new dataframe to store the literacy group that has max percentage in that state\n",
    "\n",
    "high=pd.DataFrame()\n",
    "\n",
    "#adding statecode column to high data frame\n",
    "\n",
    "g=merged.groupby(by=['statecode'],as_index=False)\n",
    "\n",
    "#this list is will store the statecodes\n",
    "\n",
    "statecode_list=[]\n",
    "\n",
    "for i,j in g:\n",
    "    statecode_list.append(i)\n",
    "    \n",
    "#assigning the statecode_list to statecode column of high dataframe\n",
    "\n",
    "high['statecode']=statecode_list\n",
    "\n",
    "#getting the highest percentage value of  literacy group that speaks 3 or more langs\n",
    "\n",
    "high['percent']=merged.groupby(by=['statecode'],as_index=False).agg(func='max')['percent']\n",
    "\n",
    "#merging the high and merged data frame to get the finalmerged dataframe\n",
    "#the merging happens of statecode and the highest percentage value \n",
    "\n",
    "finalmerged=pd.merge(high,merged)"
   ]
  },
  {
   "cell_type": "code",
   "execution_count": 21,
   "metadata": {
    "execution": {
     "iopub.execute_input": "2021-11-09T05:43:39.994843Z",
     "iopub.status.busy": "2021-11-09T05:43:39.994517Z",
     "iopub.status.idle": "2021-11-09T05:43:39.996228Z",
     "shell.execute_reply": "2021-11-09T05:43:39.995897Z"
    }
   },
   "outputs": [],
   "source": [
    "#reordering of columns\n",
    "\n",
    "percent=finalmerged['percent']*100\n",
    "finalmerged=finalmerged.iloc[:,[0,2]]\n",
    "finalmerged['percent']=percent"
   ]
  },
  {
   "cell_type": "code",
   "execution_count": 22,
   "metadata": {
    "execution": {
     "iopub.execute_input": "2021-11-09T05:43:39.998668Z",
     "iopub.status.busy": "2021-11-09T05:43:39.998344Z",
     "iopub.status.idle": "2021-11-09T05:43:39.999996Z",
     "shell.execute_reply": "2021-11-09T05:43:39.999706Z"
    }
   },
   "outputs": [],
   "source": [
    "#renaming of columns\n",
    "\n",
    "finalmerged.columns=['state/ut', 'literacy-group', 'percentage']"
   ]
  },
  {
   "cell_type": "code",
   "execution_count": 23,
   "metadata": {
    "execution": {
     "iopub.execute_input": "2021-11-09T05:43:40.002487Z",
     "iopub.status.busy": "2021-11-09T05:43:40.002019Z",
     "iopub.status.idle": "2021-11-09T05:43:40.005552Z",
     "shell.execute_reply": "2021-11-09T05:43:40.005265Z"
    }
   },
   "outputs": [],
   "source": [
    "#writing finalmerged dataframe into \n",
    "\n",
    "finalmerged.to_csv('literacy-india.csv',index=False)"
   ]
  },
  {
   "cell_type": "code",
   "execution_count": null,
   "metadata": {},
   "outputs": [],
   "source": []
  }
 ],
 "metadata": {
  "kernelspec": {
   "display_name": "Python 3",
   "language": "python",
   "name": "python3"
  },
  "language_info": {
   "codemirror_mode": {
    "name": "ipython",
    "version": 3
   },
   "file_extension": ".py",
   "mimetype": "text/x-python",
   "name": "python",
   "nbconvert_exporter": "python",
   "pygments_lexer": "ipython3",
   "version": "3.8.10"
  }
 },
 "nbformat": 4,
 "nbformat_minor": 4
}
