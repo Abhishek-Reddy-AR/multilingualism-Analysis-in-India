{
 "cells": [
  {
   "cell_type": "code",
   "execution_count": 1,
   "metadata": {
    "execution": {
     "iopub.execute_input": "2021-11-09T05:43:36.010580Z",
     "iopub.status.busy": "2021-11-09T05:43:36.010203Z",
     "iopub.status.idle": "2021-11-09T05:43:36.213795Z",
     "shell.execute_reply": "2021-11-09T05:43:36.213417Z"
    }
   },
   "outputs": [],
   "source": [
    "#IMPORTING REQUIRED MODULES\n",
    "\n",
    "import pandas as pd\n",
    "import warnings\n",
    "warnings.filterwarnings('ignore')"
   ]
  },
  {
   "cell_type": "code",
   "execution_count": 2,
   "metadata": {
    "execution": {
     "iopub.execute_input": "2021-11-09T05:43:36.216543Z",
     "iopub.status.busy": "2021-11-09T05:43:36.216212Z",
     "iopub.status.idle": "2021-11-09T05:43:36.446619Z",
     "shell.execute_reply": "2021-11-09T05:43:36.446265Z"
    }
   },
   "outputs": [],
   "source": [
    "#reading required data files\n",
    "\n",
    "newdf=pd.read_excel(r'DDW-C18-0000.xlsx') #population by bilingualism , trilinguaalism , age\n",
    "c14=pd.read_excel(r'DDW-0000C-14.xls') #POPULATION IN FIVE YEAR AGE-GROUP BY RESIDENCE AND SEX"
   ]
  },
  {
   "cell_type": "code",
   "execution_count": 3,
   "metadata": {
    "execution": {
     "iopub.execute_input": "2021-11-09T05:43:36.449472Z",
     "iopub.status.busy": "2021-11-09T05:43:36.449147Z",
     "iopub.status.idle": "2021-11-09T05:43:36.450707Z",
     "shell.execute_reply": "2021-11-09T05:43:36.450420Z"
    }
   },
   "outputs": [],
   "source": [
    "#renaming the columns in newdf\n",
    "\n",
    "newnames=['statecode','districtcode','state','type','agegroup','2.persons','2.males','2.females','3.persons','3.males','3.females']\n",
    "newdf.columns=newnames"
   ]
  },
  {
   "cell_type": "code",
   "execution_count": 4,
   "metadata": {
    "execution": {
     "iopub.execute_input": "2021-11-09T05:43:36.452889Z",
     "iopub.status.busy": "2021-11-09T05:43:36.452562Z",
     "iopub.status.idle": "2021-11-09T05:43:36.454064Z",
     "shell.execute_reply": "2021-11-09T05:43:36.453779Z"
    }
   },
   "outputs": [],
   "source": [
    "#removing the rows that contain metadata\n",
    "\n",
    "newdf=newdf[5:]"
   ]
  },
  {
   "cell_type": "code",
   "execution_count": 5,
   "metadata": {
    "execution": {
     "iopub.execute_input": "2021-11-09T05:43:36.457509Z",
     "iopub.status.busy": "2021-11-09T05:43:36.457181Z",
     "iopub.status.idle": "2021-11-09T05:43:36.458728Z",
     "shell.execute_reply": "2021-11-09T05:43:36.458398Z"
    }
   },
   "outputs": [],
   "source": [
    "#choosing rows that have 'agegroup' not equal to total and 'type' as total\n",
    "\n",
    "newdf=newdf[newdf['type']=='Total']\n",
    "newdf=newdf[newdf['agegroup']!='Total']"
   ]
  },
  {
   "cell_type": "code",
   "execution_count": 6,
   "metadata": {
    "execution": {
     "iopub.execute_input": "2021-11-09T05:43:36.465028Z",
     "iopub.status.busy": "2021-11-09T05:43:36.464681Z",
     "iopub.status.idle": "2021-11-09T05:43:36.466886Z",
     "shell.execute_reply": "2021-11-09T05:43:36.466553Z"
    }
   },
   "outputs": [
    {
     "data": {
      "text/plain": [
       "Index(['statecode', 'state', 'agegroup', '3.persons'], dtype='object')"
      ]
     },
     "execution_count": 6,
     "metadata": {},
     "output_type": "execute_result"
    }
   ],
   "source": [
    "#selecting only the required columns\n",
    "\n",
    "newdf=newdf.iloc[:,[0,2,4,8]]\n",
    "\n",
    "#printing the selected column names\n",
    "\n",
    "newdf.columns"
   ]
  },
  {
   "cell_type": "code",
   "execution_count": 7,
   "metadata": {
    "execution": {
     "iopub.execute_input": "2021-11-09T05:43:36.469539Z",
     "iopub.status.busy": "2021-11-09T05:43:36.469216Z",
     "iopub.status.idle": "2021-11-09T05:43:36.470768Z",
     "shell.execute_reply": "2021-11-09T05:43:36.470431Z"
    }
   },
   "outputs": [],
   "source": [
    "#converting string to numeric values\n",
    "\n",
    "newdf['3.persons']=pd.to_numeric(newdf['3.persons'])"
   ]
  },
  {
   "cell_type": "code",
   "execution_count": 8,
   "metadata": {
    "execution": {
     "iopub.execute_input": "2021-11-09T05:43:36.473308Z",
     "iopub.status.busy": "2021-11-09T05:43:36.472985Z",
     "iopub.status.idle": "2021-11-09T05:43:36.474740Z",
     "shell.execute_reply": "2021-11-09T05:43:36.474454Z"
    }
   },
   "outputs": [],
   "source": [
    "#selecting only required columns from c14 data frame\n",
    "\n",
    "c14=c14.iloc[:,[3,4,5]]"
   ]
  },
  {
   "cell_type": "code",
   "execution_count": 9,
   "metadata": {
    "execution": {
     "iopub.execute_input": "2021-11-09T05:43:36.477009Z",
     "iopub.status.busy": "2021-11-09T05:43:36.476687Z",
     "iopub.status.idle": "2021-11-09T05:43:36.477989Z",
     "shell.execute_reply": "2021-11-09T05:43:36.478262Z"
    }
   },
   "outputs": [],
   "source": [
    "#renaming the selected columns\n",
    "\n",
    "c14.columns=['state','age','pop']"
   ]
  },
  {
   "cell_type": "code",
   "execution_count": 10,
   "metadata": {
    "execution": {
     "iopub.execute_input": "2021-11-09T05:43:36.480487Z",
     "iopub.status.busy": "2021-11-09T05:43:36.480167Z",
     "iopub.status.idle": "2021-11-09T05:43:36.481841Z",
     "shell.execute_reply": "2021-11-09T05:43:36.481506Z"
    }
   },
   "outputs": [],
   "source": [
    "#removing the rows that contain metadata\n",
    "\n",
    "c14=c14.iloc[6:,:]"
   ]
  },
  {
   "cell_type": "code",
   "execution_count": 11,
   "metadata": {
    "execution": {
     "iopub.execute_input": "2021-11-09T05:43:36.545972Z",
     "iopub.status.busy": "2021-11-09T05:43:36.545644Z",
     "iopub.status.idle": "2021-11-09T05:43:36.546890Z",
     "shell.execute_reply": "2021-11-09T05:43:36.547214Z"
    }
   },
   "outputs": [],
   "source": [
    "#converting state names in c14 to upper case\n",
    "\n",
    "for i in range(len(c14)):\n",
    "    c14.iloc[i,0]=c14.iloc[i,0].upper()"
   ]
  },
  {
   "cell_type": "code",
   "execution_count": 12,
   "metadata": {
    "execution": {
     "iopub.execute_input": "2021-11-09T05:43:36.549829Z",
     "iopub.status.busy": "2021-11-09T05:43:36.549508Z",
     "iopub.status.idle": "2021-11-09T05:43:36.551219Z",
     "shell.execute_reply": "2021-11-09T05:43:36.550929Z"
    }
   },
   "outputs": [],
   "source": [
    "#removing the rows in newdf that contain age as 'age not stated'\n",
    "\n",
    "newdf=newdf[newdf['agegroup']!='Age not stated']"
   ]
  },
  {
   "cell_type": "code",
   "execution_count": 13,
   "metadata": {
    "execution": {
     "iopub.execute_input": "2021-11-09T05:43:36.553808Z",
     "iopub.status.busy": "2021-11-09T05:43:36.553486Z",
     "iopub.status.idle": "2021-11-09T05:43:36.556044Z",
     "shell.execute_reply": "2021-11-09T05:43:36.555716Z"
    }
   },
   "outputs": [],
   "source": [
    "#removing the age groups from c14 that are not present in newdf(for consistency)\n",
    "\n",
    "c14=c14[c14['age']!='Age not stated']\n",
    "c14=c14[c14['age']!='All ages']\n",
    "c14=c14[c14['age']!='0-4']"
   ]
  },
  {
   "cell_type": "code",
   "execution_count": 14,
   "metadata": {
    "execution": {
     "iopub.execute_input": "2021-11-09T05:43:36.565983Z",
     "iopub.status.busy": "2021-11-09T05:43:36.565648Z",
     "iopub.status.idle": "2021-11-09T05:43:36.567319Z",
     "shell.execute_reply": "2021-11-09T05:43:36.567574Z"
    }
   },
   "outputs": [
    {
     "name": "stdout",
     "output_type": "stream",
     "text": [
      "Index(['state', 'age', 'pop'], dtype='object')\n"
     ]
    }
   ],
   "source": [
    "#selecting all the rows from c14 that have age group between 30 to 49 to make them as a single group 30-49\n",
    "\n",
    "x=c14[c14['age']=='30-34']\n",
    "x=x.append(c14[c14['age']=='35-39'])\n",
    "x=x.append(c14[c14['age']=='40-44'])\n",
    "x=x.append(c14[c14['age']=='45-49'])\n",
    "\n",
    "#selecting only the required columns from x\n",
    "\n",
    "x=x.iloc[:,[0,2]]\n",
    "\n",
    "#convertig string to numeric value\n",
    "\n",
    "x['pop']=pd.to_numeric(x['pop'])\n",
    "\n",
    "#grouped data frame contains state name and the total persons present in age group 30-49 in that state\n",
    "\n",
    "grouped=x.groupby(by=['state'],as_index=False).agg(func='sum')\n",
    "\n",
    "#adding a new column to grouped data frame 'age' as 30-49\n",
    "\n",
    "grouped['age']='30-49'\n",
    "\n",
    "#reordering the columns in grouped (so that it can we merged later with other dataframe)\n",
    "\n",
    "grouped=grouped[['state', 'age', 'pop']]\n",
    "\n",
    "#after reordering , printing current columns in grouped\n",
    "\n",
    "print(grouped.columns)"
   ]
  },
  {
   "cell_type": "code",
   "execution_count": 15,
   "metadata": {
    "execution": {
     "iopub.execute_input": "2021-11-09T05:43:36.575942Z",
     "iopub.status.busy": "2021-11-09T05:43:36.574021Z",
     "iopub.status.idle": "2021-11-09T05:43:36.577843Z",
     "shell.execute_reply": "2021-11-09T05:43:36.577534Z"
    }
   },
   "outputs": [
    {
     "name": "stdout",
     "output_type": "stream",
     "text": [
      "Index(['state', 'age', 'pop'], dtype='object')\n"
     ]
    }
   ],
   "source": [
    "#selecting all the rows from c14 that have age group between 50 to 69 to make them as a single group 50-69\n",
    "\n",
    "x1=c14[c14['age']=='50-54']\n",
    "x1=x1.append(c14[c14['age']=='55-59'])\n",
    "x1=x1.append(c14[c14['age']=='60-64'])\n",
    "x1=x1.append(c14[c14['age']=='65-69'])\n",
    "\n",
    "#selecting only the required columns from x1\n",
    "\n",
    "x1=x1.iloc[:,[0,2]]\n",
    "\n",
    "#convertig string to numeric value\n",
    "\n",
    "x1['pop']=pd.to_numeric(x1['pop'])\n",
    "\n",
    "#grouped1 data frame contains state name and the total persons present in age group 50-69 in that state\n",
    "\n",
    "grouped1=x1.groupby(by=['state'],as_index=False).agg(func='sum')\n",
    "\n",
    "#adding a new column to grouped1 data frame 'age' as 50-69\n",
    "\n",
    "grouped1['age']='50-69'\n",
    "\n",
    "#reordering the columns in grouped1 (so that it can we merged later with other dataframe)\n",
    "\n",
    "grouped1=grouped1[['state', 'age', 'pop']]\n",
    "\n",
    "#after reordering , printing current columns in grouped1\n",
    "\n",
    "print(grouped1.columns)"
   ]
  },
  {
   "cell_type": "code",
   "execution_count": 16,
   "metadata": {
    "execution": {
     "iopub.execute_input": "2021-11-09T05:43:36.587786Z",
     "iopub.status.busy": "2021-11-09T05:43:36.587434Z",
     "iopub.status.idle": "2021-11-09T05:43:36.589251Z",
     "shell.execute_reply": "2021-11-09T05:43:36.588963Z"
    }
   },
   "outputs": [
    {
     "name": "stdout",
     "output_type": "stream",
     "text": [
      "Index(['state', 'age', 'pop'], dtype='object')\n"
     ]
    }
   ],
   "source": [
    "#selecting all the rows from c14 that have age as 70+ to make them as a single group \n",
    "\n",
    "x2=c14[c14['age']=='70-74']\n",
    "x2=x2.append(c14[c14['age']=='75-79'])\n",
    "x2=x2.append(c14[c14['age']=='80+'])\n",
    "\n",
    "#selecting only the required columns from x2\n",
    "\n",
    "x2=x2.iloc[:,[0,2]]\n",
    "\n",
    "#convertig string to numeric value\n",
    "\n",
    "x2['pop']=pd.to_numeric(x2['pop'])\n",
    "\n",
    "#grouped2 data frame contains state name and the total persons present in age group 70+ in that state\n",
    "\n",
    "grouped2=x2.groupby(by=['state'],as_index=False).agg(func='sum')\n",
    "\n",
    "#adding a new column to grouped2 data frame 'age' as 70+\n",
    "\n",
    "grouped2['age']='70+'\n",
    "\n",
    "#reordering the columns in grouped2 (so that it can we merged later with other dataframe)\n",
    "\n",
    "grouped2=grouped2[['state', 'age', 'pop']]\n",
    "\n",
    "#after reordering , printing current columns in grouped2\n",
    "\n",
    "print(grouped2.columns)"
   ]
  },
  {
   "cell_type": "code",
   "execution_count": 17,
   "metadata": {
    "execution": {
     "iopub.execute_input": "2021-11-09T05:43:36.595070Z",
     "iopub.status.busy": "2021-11-09T05:43:36.593546Z",
     "iopub.status.idle": "2021-11-09T05:43:36.597806Z",
     "shell.execute_reply": "2021-11-09T05:43:36.597518Z"
    }
   },
   "outputs": [],
   "source": [
    "#removing all the rows in c14 that contain age group 30+\n",
    "\n",
    "c14=c14[c14['age']!='30-34']\n",
    "c14=c14[c14['age']!='35-39']\n",
    "c14=c14[c14['age']!='40-44']\n",
    "c14=c14[c14['age']!='45-49']\n",
    "c14=c14[c14['age']!='50-54']\n",
    "c14=c14[c14['age']!='55-59']\n",
    "c14=c14[c14['age']!='60-64']\n",
    "c14=c14[c14['age']!='65-69']\n",
    "c14=c14[c14['age']!='70-74']\n",
    "c14=c14[c14['age']!='75-79']\n",
    "c14=c14[c14['age']!='80+']"
   ]
  },
  {
   "cell_type": "code",
   "execution_count": 18,
   "metadata": {
    "execution": {
     "iopub.execute_input": "2021-11-09T05:43:36.600696Z",
     "iopub.status.busy": "2021-11-09T05:43:36.600372Z",
     "iopub.status.idle": "2021-11-09T05:43:36.601869Z",
     "shell.execute_reply": "2021-11-09T05:43:36.601541Z"
    }
   },
   "outputs": [],
   "source": [
    "#appending grouped,grouped1,grouped2 data frame to c14(now the age groups from c14 and newdf are consistent)\n",
    "\n",
    "c14=c14.append([grouped,grouped1,grouped2])"
   ]
  },
  {
   "cell_type": "code",
   "execution_count": 19,
   "metadata": {
    "execution": {
     "iopub.execute_input": "2021-11-09T05:43:36.656837Z",
     "iopub.status.busy": "2021-11-09T05:43:36.656510Z",
     "iopub.status.idle": "2021-11-09T05:43:36.658036Z",
     "shell.execute_reply": "2021-11-09T05:43:36.657707Z"
    }
   },
   "outputs": [],
   "source": [
    "#getting only the statename (removing other words from statename like 'state' etc)\n",
    "\n",
    "for i in range(len(c14)):\n",
    "    if c14.iloc[i,0]=='INDIA':\n",
    "        continue\n",
    "    else:\n",
    "        c14.iloc[i,0]=c14.iloc[i,0][8:-5]"
   ]
  },
  {
   "cell_type": "code",
   "execution_count": 20,
   "metadata": {
    "execution": {
     "iopub.execute_input": "2021-11-09T05:43:36.660293Z",
     "iopub.status.busy": "2021-11-09T05:43:36.659970Z",
     "iopub.status.idle": "2021-11-09T05:43:36.661739Z",
     "shell.execute_reply": "2021-11-09T05:43:36.661410Z"
    }
   },
   "outputs": [],
   "source": [
    "#renaming the columns in c14\n",
    "\n",
    "c14.columns=['state', 'agegroup', 'pop']"
   ]
  },
  {
   "cell_type": "code",
   "execution_count": 21,
   "metadata": {
    "execution": {
     "iopub.execute_input": "2021-11-09T05:43:36.665245Z",
     "iopub.status.busy": "2021-11-09T05:43:36.664922Z",
     "iopub.status.idle": "2021-11-09T05:43:36.667288Z",
     "shell.execute_reply": "2021-11-09T05:43:36.666997Z"
    }
   },
   "outputs": [],
   "source": [
    "#merging newdf and c14 based on state name and agegroup columns(columns with same name in both dataframes)\n",
    "\n",
    "merged=pd.merge(newdf,c14)"
   ]
  },
  {
   "cell_type": "code",
   "execution_count": 22,
   "metadata": {
    "execution": {
     "iopub.execute_input": "2021-11-09T05:43:36.669794Z",
     "iopub.status.busy": "2021-11-09T05:43:36.669474Z",
     "iopub.status.idle": "2021-11-09T05:43:36.670962Z",
     "shell.execute_reply": "2021-11-09T05:43:36.670633Z"
    }
   },
   "outputs": [],
   "source": [
    "#converting string to numeric value\n",
    "\n",
    "merged['pop']=pd.to_numeric(merged['pop'])"
   ]
  },
  {
   "cell_type": "code",
   "execution_count": 23,
   "metadata": {
    "execution": {
     "iopub.execute_input": "2021-11-09T05:43:36.673605Z",
     "iopub.status.busy": "2021-11-09T05:43:36.673284Z",
     "iopub.status.idle": "2021-11-09T05:43:36.675049Z",
     "shell.execute_reply": "2021-11-09T05:43:36.674721Z"
    }
   },
   "outputs": [],
   "source": [
    "#calculating the percentage of people speaking 3 or more langs for each age group of each state\n",
    "\n",
    "merged['percent']=merged['3.persons']/merged['pop']"
   ]
  },
  {
   "cell_type": "code",
   "execution_count": 24,
   "metadata": {
    "execution": {
     "iopub.execute_input": "2021-11-09T05:43:36.677660Z",
     "iopub.status.busy": "2021-11-09T05:43:36.677338Z",
     "iopub.status.idle": "2021-11-09T05:43:36.679153Z",
     "shell.execute_reply": "2021-11-09T05:43:36.678824Z"
    }
   },
   "outputs": [],
   "source": [
    "#selecting only the required columns\n",
    "\n",
    "merged=merged.iloc[:,[0,2,-1]]"
   ]
  },
  {
   "cell_type": "code",
   "execution_count": 25,
   "metadata": {
    "execution": {
     "iopub.execute_input": "2021-11-09T05:43:36.681406Z",
     "iopub.status.busy": "2021-11-09T05:43:36.681085Z",
     "iopub.status.idle": "2021-11-09T05:43:36.682504Z",
     "shell.execute_reply": "2021-11-09T05:43:36.682773Z"
    }
   },
   "outputs": [],
   "source": [
    "#creating new dataframe 'high' to store the age group of each state that has the highest percentage of ppl speaking 3 or more\n",
    "#languages\n",
    "\n",
    "high=pd.DataFrame()"
   ]
  },
  {
   "cell_type": "code",
   "execution_count": 26,
   "metadata": {
    "execution": {
     "iopub.execute_input": "2021-11-09T05:43:36.686908Z",
     "iopub.status.busy": "2021-11-09T05:43:36.686583Z",
     "iopub.status.idle": "2021-11-09T05:43:36.688050Z",
     "shell.execute_reply": "2021-11-09T05:43:36.687724Z"
    }
   },
   "outputs": [],
   "source": [
    "#adding statecode column to high data frame\n",
    "\n",
    "g=merged.groupby(by=['statecode'],as_index=False)\n",
    "\n",
    "#this list  will store the statecodes\n",
    "\n",
    "statecode_list=[]\n",
    "\n",
    "for i,j in g:\n",
    "    statecode_list.append(i)\n",
    "    \n",
    "#assigning the statecode_list to statecode column of high dataframe\n",
    "\n",
    "high['statecode']=statecode_list"
   ]
  },
  {
   "cell_type": "code",
   "execution_count": 27,
   "metadata": {
    "execution": {
     "iopub.execute_input": "2021-11-09T05:43:36.695193Z",
     "iopub.status.busy": "2021-11-09T05:43:36.694859Z",
     "iopub.status.idle": "2021-11-09T05:43:36.696832Z",
     "shell.execute_reply": "2021-11-09T05:43:36.696503Z"
    }
   },
   "outputs": [],
   "source": [
    "#getting the highest percentage value of  age group that speaks 3 or more langs\n",
    "\n",
    "high['percent']=merged.groupby(by=['statecode'],as_index=False).agg(func='max')['percent']"
   ]
  },
  {
   "cell_type": "code",
   "execution_count": 28,
   "metadata": {
    "execution": {
     "iopub.execute_input": "2021-11-09T05:43:36.700795Z",
     "iopub.status.busy": "2021-11-09T05:43:36.700472Z",
     "iopub.status.idle": "2021-11-09T05:43:36.702302Z",
     "shell.execute_reply": "2021-11-09T05:43:36.701973Z"
    }
   },
   "outputs": [],
   "source": [
    "#merging the high and merged data frame to get the final dataframe\n",
    "#the merging happens on statecode and the highest percentage value \n",
    "\n",
    "finalmerged=pd.merge(high,merged)"
   ]
  },
  {
   "cell_type": "code",
   "execution_count": 29,
   "metadata": {
    "execution": {
     "iopub.execute_input": "2021-11-09T05:43:36.705588Z",
     "iopub.status.busy": "2021-11-09T05:43:36.705266Z",
     "iopub.status.idle": "2021-11-09T05:43:36.706667Z",
     "shell.execute_reply": "2021-11-09T05:43:36.706939Z"
    }
   },
   "outputs": [],
   "source": [
    "#reordering of columns\n",
    "\n",
    "percent=finalmerged['percent']*100\n",
    "finalmerged=finalmerged.iloc[:,[0,2]]\n",
    "finalmerged['percent']=percent"
   ]
  },
  {
   "cell_type": "code",
   "execution_count": 30,
   "metadata": {
    "execution": {
     "iopub.execute_input": "2021-11-09T05:43:36.709158Z",
     "iopub.status.busy": "2021-11-09T05:43:36.708837Z",
     "iopub.status.idle": "2021-11-09T05:43:36.710477Z",
     "shell.execute_reply": "2021-11-09T05:43:36.710195Z"
    }
   },
   "outputs": [],
   "source": [
    "#renaming of columns\n",
    "\n",
    "finalmerged.columns=['state/ut', 'age-group', 'percentage']"
   ]
  },
  {
   "cell_type": "code",
   "execution_count": 31,
   "metadata": {
    "execution": {
     "iopub.execute_input": "2021-11-09T05:43:36.713779Z",
     "iopub.status.busy": "2021-11-09T05:43:36.713452Z",
     "iopub.status.idle": "2021-11-09T05:43:36.715132Z",
     "shell.execute_reply": "2021-11-09T05:43:36.714803Z"
    }
   },
   "outputs": [],
   "source": [
    "#writing finalmerged dataframe into age-india.csv\n",
    "\n",
    "finalmerged.to_csv('age-india.csv',index=False)"
   ]
  },
  {
   "cell_type": "code",
   "execution_count": null,
   "metadata": {},
   "outputs": [],
   "source": []
  },
  {
   "cell_type": "code",
   "execution_count": null,
   "metadata": {},
   "outputs": [],
   "source": []
  }
 ],
 "metadata": {
  "kernelspec": {
   "display_name": "Python 3",
   "language": "python",
   "name": "python3"
  },
  "language_info": {
   "codemirror_mode": {
    "name": "ipython",
    "version": 3
   },
   "file_extension": ".py",
   "mimetype": "text/x-python",
   "name": "python",
   "nbconvert_exporter": "python",
   "pygments_lexer": "ipython3",
   "version": "3.8.10"
  }
 },
 "nbformat": 4,
 "nbformat_minor": 4
}
