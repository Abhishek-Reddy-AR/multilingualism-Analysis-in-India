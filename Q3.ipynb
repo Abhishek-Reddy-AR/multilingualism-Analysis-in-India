{
 "cells": [
  {
   "cell_type": "code",
   "execution_count": 1,
   "metadata": {
    "execution": {
     "iopub.execute_input": "2021-11-09T05:43:30.274185Z",
     "iopub.status.busy": "2021-11-09T05:43:30.273824Z",
     "iopub.status.idle": "2021-11-09T05:43:30.695820Z",
     "shell.execute_reply": "2021-11-09T05:43:30.695414Z"
    }
   },
   "outputs": [],
   "source": [
    "#IMPORTING REQUIRED MODULES\n",
    "\n",
    "import pandas as pd\n",
    "import warnings\n",
    "warnings.filterwarnings('ignore')\n",
    "import numpy as np\n",
    "import scipy.stats"
   ]
  },
  {
   "cell_type": "code",
   "execution_count": 2,
   "metadata": {
    "execution": {
     "iopub.execute_input": "2021-11-09T05:43:30.698736Z",
     "iopub.status.busy": "2021-11-09T05:43:30.698406Z",
     "iopub.status.idle": "2021-11-09T05:43:30.893373Z",
     "shell.execute_reply": "2021-11-09T05:43:30.893083Z"
    }
   },
   "outputs": [],
   "source": [
    "#reading the required data files(statewise population data and statewise bilingualism and trilingualism data)\n",
    "\n",
    "newdf=pd.read_excel(r'DDW-C18-0000.xlsx')\n",
    "totpop=pd.read_csv(r'DDW_PCA0000_2011_Indiastatedist.csv')"
   ]
  },
  {
   "cell_type": "code",
   "execution_count": 3,
   "metadata": {
    "execution": {
     "iopub.execute_input": "2021-11-09T05:43:30.896311Z",
     "iopub.status.busy": "2021-11-09T05:43:30.895984Z",
     "iopub.status.idle": "2021-11-09T05:43:30.897855Z",
     "shell.execute_reply": "2021-11-09T05:43:30.897527Z"
    }
   },
   "outputs": [],
   "source": [
    "#renaming the columns in statewise bilingualism and trilingualism data\n",
    "\n",
    "newnames=['statecode','districtcode','state','TRU','agegroup','2.persons','2.males','2.females','3.persons','3.males','3.females']\n",
    "\n",
    "newdf.columns=newnames"
   ]
  },
  {
   "cell_type": "code",
   "execution_count": 4,
   "metadata": {
    "execution": {
     "iopub.execute_input": "2021-11-09T05:43:30.900278Z",
     "iopub.status.busy": "2021-11-09T05:43:30.899953Z",
     "iopub.status.idle": "2021-11-09T05:43:30.901847Z",
     "shell.execute_reply": "2021-11-09T05:43:30.901510Z"
    }
   },
   "outputs": [],
   "source": [
    "#removing the rows that contain metadata\n",
    "\n",
    "newdf=newdf[5:]"
   ]
  },
  {
   "cell_type": "code",
   "execution_count": 5,
   "metadata": {
    "execution": {
     "iopub.execute_input": "2021-11-09T05:43:30.905318Z",
     "iopub.status.busy": "2021-11-09T05:43:30.904986Z",
     "iopub.status.idle": "2021-11-09T05:43:30.906721Z",
     "shell.execute_reply": "2021-11-09T05:43:30.906389Z"
    }
   },
   "outputs": [],
   "source": [
    "#choosing rows that have 'agegroup' as total and 'tru' as not total\n",
    "\n",
    "newdf=newdf[newdf['TRU']!='Total']\n",
    "newdf=newdf[newdf['agegroup']=='Total']"
   ]
  },
  {
   "cell_type": "code",
   "execution_count": 6,
   "metadata": {
    "execution": {
     "iopub.execute_input": "2021-11-09T05:43:30.909453Z",
     "iopub.status.busy": "2021-11-09T05:43:30.909129Z",
     "iopub.status.idle": "2021-11-09T05:43:30.910829Z",
     "shell.execute_reply": "2021-11-09T05:43:30.910498Z"
    }
   },
   "outputs": [],
   "source": [
    "#selecting only the required columns\n",
    "\n",
    "newdf=newdf.iloc[:,[0,2,3,5,8]]"
   ]
  },
  {
   "cell_type": "code",
   "execution_count": 7,
   "metadata": {
    "execution": {
     "iopub.execute_input": "2021-11-09T05:43:30.916904Z",
     "iopub.status.busy": "2021-11-09T05:43:30.916369Z",
     "iopub.status.idle": "2021-11-09T05:43:30.918622Z",
     "shell.execute_reply": "2021-11-09T05:43:30.918283Z"
    }
   },
   "outputs": [
    {
     "data": {
      "text/plain": [
       "Index(['statecode', 'state', 'TRU', '2.persons', '3.persons'], dtype='object')"
      ]
     },
     "execution_count": 7,
     "metadata": {},
     "output_type": "execute_result"
    }
   ],
   "source": [
    "#printing the selected column names\n",
    "\n",
    "newdf.columns"
   ]
  },
  {
   "cell_type": "code",
   "execution_count": 8,
   "metadata": {
    "execution": {
     "iopub.execute_input": "2021-11-09T05:43:30.922180Z",
     "iopub.status.busy": "2021-11-09T05:43:30.921853Z",
     "iopub.status.idle": "2021-11-09T05:43:30.923495Z",
     "shell.execute_reply": "2021-11-09T05:43:30.923212Z"
    }
   },
   "outputs": [],
   "source": [
    "#choosing rural and urban state population data rows only from population data\n",
    "\n",
    "totpop=totpop[totpop['Level']!='DISTRICT']\n",
    "totpop=totpop[totpop['TRU']!='Total']"
   ]
  },
  {
   "cell_type": "code",
   "execution_count": 9,
   "metadata": {
    "execution": {
     "iopub.execute_input": "2021-11-09T05:43:30.926160Z",
     "iopub.status.busy": "2021-11-09T05:43:30.925837Z",
     "iopub.status.idle": "2021-11-09T05:43:30.927230Z",
     "shell.execute_reply": "2021-11-09T05:43:30.927541Z"
    }
   },
   "outputs": [],
   "source": [
    "#selecting only the required columns\n",
    "\n",
    "totpop=totpop.iloc[:,[7,8,10]]"
   ]
  },
  {
   "cell_type": "code",
   "execution_count": 10,
   "metadata": {
    "execution": {
     "iopub.execute_input": "2021-11-09T05:43:30.930428Z",
     "iopub.status.busy": "2021-11-09T05:43:30.930073Z",
     "iopub.status.idle": "2021-11-09T05:43:30.931928Z",
     "shell.execute_reply": "2021-11-09T05:43:30.931546Z"
    }
   },
   "outputs": [],
   "source": [
    "#changing name 'india' to 'INDIA'\n",
    "\n",
    "totpop.iloc[0,0]='INDIA'\n",
    "totpop.iloc[1,0]='INDIA'"
   ]
  },
  {
   "cell_type": "code",
   "execution_count": 11,
   "metadata": {
    "execution": {
     "iopub.execute_input": "2021-11-09T05:43:30.934739Z",
     "iopub.status.busy": "2021-11-09T05:43:30.934384Z",
     "iopub.status.idle": "2021-11-09T05:43:30.936518Z",
     "shell.execute_reply": "2021-11-09T05:43:30.936059Z"
    }
   },
   "outputs": [],
   "source": [
    "#renaming columns\n",
    "\n",
    "totpop.columns=['state', 'TRU', 'TOT_P']"
   ]
  },
  {
   "cell_type": "code",
   "execution_count": 12,
   "metadata": {
    "execution": {
     "iopub.execute_input": "2021-11-09T05:43:30.941711Z",
     "iopub.status.busy": "2021-11-09T05:43:30.941371Z",
     "iopub.status.idle": "2021-11-09T05:43:30.943159Z",
     "shell.execute_reply": "2021-11-09T05:43:30.942816Z"
    }
   },
   "outputs": [],
   "source": [
    "#merging the data frames based on state names and tru values\n",
    "\n",
    "merged = totpop.merge(newdf,on=['state','TRU'])"
   ]
  },
  {
   "cell_type": "code",
   "execution_count": 13,
   "metadata": {
    "execution": {
     "iopub.execute_input": "2021-11-09T05:43:30.946710Z",
     "iopub.status.busy": "2021-11-09T05:43:30.946378Z",
     "iopub.status.idle": "2021-11-09T05:43:30.948098Z",
     "shell.execute_reply": "2021-11-09T05:43:30.947810Z"
    }
   },
   "outputs": [],
   "source": [
    "#splitting rural and urban data into different dataframes\n",
    "\n",
    "rmerge=merged[merged['TRU']=='Rural']\n",
    "umerge=merged[merged['TRU']!='Rural']"
   ]
  },
  {
   "cell_type": "code",
   "execution_count": 14,
   "metadata": {
    "execution": {
     "iopub.execute_input": "2021-11-09T05:43:30.952455Z",
     "iopub.status.busy": "2021-11-09T05:43:30.952120Z",
     "iopub.status.idle": "2021-11-09T05:43:30.953790Z",
     "shell.execute_reply": "2021-11-09T05:43:30.953450Z"
    }
   },
   "outputs": [],
   "source": [
    "#merging rmerge and umerge based on statecode column\n",
    "\n",
    "merged1=rmerge.merge(umerge,on=['statecode'])"
   ]
  },
  {
   "cell_type": "code",
   "execution_count": 15,
   "metadata": {
    "execution": {
     "iopub.execute_input": "2021-11-09T05:43:30.956728Z",
     "iopub.status.busy": "2021-11-09T05:43:30.956401Z",
     "iopub.status.idle": "2021-11-09T05:43:30.957698Z",
     "shell.execute_reply": "2021-11-09T05:43:30.957971Z"
    }
   },
   "outputs": [],
   "source": [
    "#selecting required columns\n",
    "\n",
    "merged1=merged1.iloc[:,[2,3,4,5,8,9,10]]"
   ]
  },
  {
   "cell_type": "code",
   "execution_count": 16,
   "metadata": {
    "execution": {
     "iopub.execute_input": "2021-11-09T05:43:30.960547Z",
     "iopub.status.busy": "2021-11-09T05:43:30.960219Z",
     "iopub.status.idle": "2021-11-09T05:43:30.961892Z",
     "shell.execute_reply": "2021-11-09T05:43:30.961556Z"
    }
   },
   "outputs": [],
   "source": [
    "#renaming columns\n",
    "\n",
    "merged1.columns=['ruralpop','statecode','2.rural','3.rural','urbanpop','2.urban','3.urban']"
   ]
  },
  {
   "cell_type": "code",
   "execution_count": 17,
   "metadata": {
    "execution": {
     "iopub.execute_input": "2021-11-09T05:43:30.965927Z",
     "iopub.status.busy": "2021-11-09T05:43:30.965596Z",
     "iopub.status.idle": "2021-11-09T05:43:30.967261Z",
     "shell.execute_reply": "2021-11-09T05:43:30.966896Z"
    }
   },
   "outputs": [],
   "source": [
    "#converting string to numeric\n",
    "\n",
    "merged1['3.rural']=pd.to_numeric(merged1['3.rural'])\n",
    "merged1['2.rural']=pd.to_numeric(merged1['2.rural'])\n",
    "merged1['3.urban']=pd.to_numeric(merged1['3.urban'])\n",
    "merged1['2.urban']=pd.to_numeric(merged1['2.urban'])"
   ]
  },
  {
   "cell_type": "code",
   "execution_count": 18,
   "metadata": {
    "execution": {
     "iopub.execute_input": "2021-11-09T05:43:30.971849Z",
     "iopub.status.busy": "2021-11-09T05:43:30.971498Z",
     "iopub.status.idle": "2021-11-09T05:43:30.973033Z",
     "shell.execute_reply": "2021-11-09T05:43:30.972697Z"
    }
   },
   "outputs": [],
   "source": [
    "#calculating the no of urban and rural ppl speaking only 1 lang and  exactly 2 language by\n",
    "\n",
    "#no of rural ppl speaking exactly 2 langs=no of rural ppl speaking 2 or more langs - no of rural ppl speaking 3 or more langs\n",
    "#no of urban ppl  speaking exactly 2 langs=no of urban ppl speaking 2 or more langs - no of urban ppl speaking 3 or more langs\n",
    "\n",
    "merged1['exact2rural']=merged1['2.rural']-merged1['3.rural']\n",
    "merged1['exact2urban']=merged1['2.urban']-merged1['3.urban']\n",
    "\n",
    "#no of rural ppl speaking exactly 1 lang= total no of rural ppl in that state-no of rural ppl speaking 2 or more langs\n",
    "#no of urban ppl speaking exactly 1 lang= total no of urban ppl in that state-no of urban ppl speaking 2 or more langs\n",
    "\n",
    "merged1['exact1rural']=merged1['ruralpop']-merged1['2.rural']\n",
    "merged1['exact1urban']=merged1['urbanpop']-merged1['2.urban']"
   ]
  },
  {
   "cell_type": "code",
   "execution_count": 19,
   "metadata": {
    "execution": {
     "iopub.execute_input": "2021-11-09T05:43:30.979031Z",
     "iopub.status.busy": "2021-11-09T05:43:30.978696Z",
     "iopub.status.idle": "2021-11-09T05:43:30.980286Z",
     "shell.execute_reply": "2021-11-09T05:43:30.979999Z"
    }
   },
   "outputs": [],
   "source": [
    "#calculating the percentage of rural and urban ppl speaking exactly one, exacly two and three or more languages in that state\n",
    "\n",
    "merged1['exact1perrural']=merged1['exact1rural']/merged1['ruralpop']*100\n",
    "merged1['exact2perrural']=merged1['exact2rural']/merged1['ruralpop']*100\n",
    "merged1['3ormoreperrural']=merged1['3.rural']/merged1['ruralpop']*100\n",
    "\n",
    "merged1['exact1perurban']=merged1['exact1urban']/merged1['urbanpop']*100\n",
    "merged1['exact2perurban']=merged1['exact2urban']/merged1['urbanpop']*100\n",
    "merged1['3ormoreperurban']=merged1['3.urban']/merged1['urbanpop']*100"
   ]
  },
  {
   "cell_type": "code",
   "execution_count": 20,
   "metadata": {
    "execution": {
     "iopub.execute_input": "2021-11-09T05:43:30.983107Z",
     "iopub.status.busy": "2021-11-09T05:43:30.982614Z",
     "iopub.status.idle": "2021-11-09T05:43:30.984663Z",
     "shell.execute_reply": "2021-11-09T05:43:30.984332Z"
    }
   },
   "outputs": [
    {
     "data": {
      "text/plain": [
       "Index(['ruralpop', 'statecode', '2.rural', '3.rural', 'urbanpop', '2.urban',\n",
       "       '3.urban', 'exact2rural', 'exact2urban', 'exact1rural', 'exact1urban',\n",
       "       'exact1perrural', 'exact2perrural', '3ormoreperrural', 'exact1perurban',\n",
       "       'exact2perurban', '3ormoreperurban'],\n",
       "      dtype='object')"
      ]
     },
     "execution_count": 20,
     "metadata": {},
     "output_type": "execute_result"
    }
   ],
   "source": [
    "merged1.columns"
   ]
  },
  {
   "cell_type": "code",
   "execution_count": 21,
   "metadata": {
    "execution": {
     "iopub.execute_input": "2021-11-09T05:43:30.988374Z",
     "iopub.status.busy": "2021-11-09T05:43:30.988047Z",
     "iopub.status.idle": "2021-11-09T05:43:30.989728Z",
     "shell.execute_reply": "2021-11-09T05:43:30.989401Z"
    }
   },
   "outputs": [],
   "source": [
    "#dividing the merged1 data frame into three different dataframe\n",
    "#part a:exactly 1 lang\n",
    "#part b: exactly 2 lang\n",
    "#part c: 3 or more langs\n",
    "\n",
    "part_a=merged1.iloc[:,[1,14,11]]\n",
    "part_b=merged1.iloc[:,[1,15,12]]\n",
    "part_c=merged1.iloc[:,[1,16,13]]"
   ]
  },
  {
   "cell_type": "code",
   "execution_count": 22,
   "metadata": {
    "execution": {
     "iopub.execute_input": "2021-11-09T05:43:30.993443Z",
     "iopub.status.busy": "2021-11-09T05:43:30.993108Z",
     "iopub.status.idle": "2021-11-09T05:43:30.994856Z",
     "shell.execute_reply": "2021-11-09T05:43:30.994524Z"
    }
   },
   "outputs": [],
   "source": [
    "#function to calculate the p value\n",
    "#takes a dataframe as input ,which has columns as statecode,urbanpercentage,ruralpercentage\n",
    "\n",
    "def p_cal(df):\n",
    "    \n",
    "    #calculating the difference between urban and rural percentages\n",
    "    \n",
    "    diff=abs(df.iloc[:,1]-df.iloc[:,2])\n",
    "    \n",
    "    #calculating the mean of the differences\n",
    "    \n",
    "    mean=np.mean(diff)\n",
    "    \n",
    "    #calculating the standard deviation of the differences\n",
    "    \n",
    "    sd=np.std(diff)\n",
    "    \n",
    "    #computing the z score for each difference value based on computed mean and standard deviation\n",
    "    \n",
    "    zscore=(diff-mean)/sd\n",
    "    \n",
    "    #list to store the p values\n",
    "    \n",
    "    p=[]\n",
    "    \n",
    "    #converting each zscore value to p value\n",
    "    \n",
    "    for i in range(len(zscore)):\n",
    "        \n",
    "        #we are doing two tailed test , so we are multiplying the final value by 2\n",
    "        \n",
    "        p.append(scipy.stats.norm.sf(abs(zscore[i]))*2)\n",
    "    \n",
    "    #returning the p values\n",
    "    \n",
    "    return p"
   ]
  },
  {
   "cell_type": "code",
   "execution_count": 23,
   "metadata": {
    "execution": {
     "iopub.execute_input": "2021-11-09T05:43:30.999047Z",
     "iopub.status.busy": "2021-11-09T05:43:30.998142Z",
     "iopub.status.idle": "2021-11-09T05:43:31.009691Z",
     "shell.execute_reply": "2021-11-09T05:43:31.009345Z"
    }
   },
   "outputs": [],
   "source": [
    "#storing the p values of each part in lists\n",
    "\n",
    "p_a=p_cal(part_a)\n",
    "p_b=p_cal(part_b)\n",
    "p_c=p_cal(part_c)"
   ]
  },
  {
   "cell_type": "code",
   "execution_count": 24,
   "metadata": {
    "execution": {
     "iopub.execute_input": "2021-11-09T05:43:31.013155Z",
     "iopub.status.busy": "2021-11-09T05:43:31.012827Z",
     "iopub.status.idle": "2021-11-09T05:43:31.014246Z",
     "shell.execute_reply": "2021-11-09T05:43:31.014505Z"
    }
   },
   "outputs": [],
   "source": [
    "#adding p values to the dataframes\n",
    "\n",
    "part_a['p']=p_a\n",
    "part_b['p']=p_b\n",
    "part_c['p']=p_c"
   ]
  },
  {
   "cell_type": "code",
   "execution_count": 25,
   "metadata": {
    "execution": {
     "iopub.execute_input": "2021-11-09T05:43:31.017472Z",
     "iopub.status.busy": "2021-11-09T05:43:31.017142Z",
     "iopub.status.idle": "2021-11-09T05:43:31.018882Z",
     "shell.execute_reply": "2021-11-09T05:43:31.018552Z"
    }
   },
   "outputs": [],
   "source": [
    "#renaming the columns\n",
    "\n",
    "part_a.columns=['statecode','urban-percentage','rural-percentage', 'p-value']\n",
    "part_b.columns=['statecode','urban-percentage','rural-percentage', 'p-value']\n",
    "part_c.columns=['statecode','urban-percentage','rural-percentage', 'p-value']"
   ]
  },
  {
   "cell_type": "code",
   "execution_count": 26,
   "metadata": {
    "execution": {
     "iopub.execute_input": "2021-11-09T05:43:31.021487Z",
     "iopub.status.busy": "2021-11-09T05:43:31.021160Z",
     "iopub.status.idle": "2021-11-09T05:43:31.025084Z",
     "shell.execute_reply": "2021-11-09T05:43:31.024744Z"
    }
   },
   "outputs": [],
   "source": [
    "#writing dataframes to output files\n",
    "\n",
    "part_a.to_csv('geography-india-a.csv',index=False)\n",
    "part_b.to_csv('geography-india-b.csv',index=False)\n",
    "part_c.to_csv('geography-india-c.csv',index=False)"
   ]
  },
  {
   "cell_type": "code",
   "execution_count": null,
   "metadata": {},
   "outputs": [],
   "source": []
  }
 ],
 "metadata": {
  "kernelspec": {
   "display_name": "Python 3",
   "language": "python",
   "name": "python3"
  },
  "language_info": {
   "codemirror_mode": {
    "name": "ipython",
    "version": 3
   },
   "file_extension": ".py",
   "mimetype": "text/x-python",
   "name": "python",
   "nbconvert_exporter": "python",
   "pygments_lexer": "ipython3",
   "version": "3.8.10"
  }
 },
 "nbformat": 4,
 "nbformat_minor": 4
}
