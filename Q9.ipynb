{
 "cells": [
  {
   "cell_type": "code",
   "execution_count": 1,
   "metadata": {
    "execution": {
     "iopub.execute_input": "2021-11-09T05:44:00.631840Z",
     "iopub.status.busy": "2021-11-09T05:44:00.631477Z",
     "iopub.status.idle": "2021-11-09T05:44:00.835513Z",
     "shell.execute_reply": "2021-11-09T05:44:00.835061Z"
    }
   },
   "outputs": [],
   "source": [
    "#IMPORTING REQUIRED MODULES\n",
    "\n",
    "import pandas as pd\n",
    "import warnings\n",
    "warnings.filterwarnings('ignore')"
   ]
  },
  {
   "cell_type": "code",
   "execution_count": 2,
   "metadata": {
    "execution": {
     "iopub.execute_input": "2021-11-09T05:44:00.838319Z",
     "iopub.status.busy": "2021-11-09T05:44:00.837996Z",
     "iopub.status.idle": "2021-11-09T05:44:02.014869Z",
     "shell.execute_reply": "2021-11-09T05:44:02.014524Z"
    }
   },
   "outputs": [],
   "source": [
    "#reading required data files\n",
    "\n",
    "newdf=pd.read_excel(r'DDW-C19-0000.xlsx') #POPULATION BY BILINGUALISM, TRILINGUALISM, EDUCATIONAL LEVEL AND SEX\n",
    "data=pd.read_excel('DDW-0000C-08.xlsx') #EDUCATIONAL LEVEL BY AGE AND SEX FOR POPULATION AGE 7 AND ABOVE "
   ]
  },
  {
   "cell_type": "code",
   "execution_count": 3,
   "metadata": {
    "execution": {
     "iopub.execute_input": "2021-11-09T05:44:02.017895Z",
     "iopub.status.busy": "2021-11-09T05:44:02.017568Z",
     "iopub.status.idle": "2021-11-09T05:44:02.019176Z",
     "shell.execute_reply": "2021-11-09T05:44:02.018850Z"
    }
   },
   "outputs": [],
   "source": [
    "#selecting only the required columns\n",
    "\n",
    "newdf=newdf.iloc[:,[0,3,4,6,7,9,10]]"
   ]
  },
  {
   "cell_type": "code",
   "execution_count": 4,
   "metadata": {
    "execution": {
     "iopub.execute_input": "2021-11-09T05:44:02.021747Z",
     "iopub.status.busy": "2021-11-09T05:44:02.021426Z",
     "iopub.status.idle": "2021-11-09T05:44:02.023055Z",
     "shell.execute_reply": "2021-11-09T05:44:02.022731Z"
    }
   },
   "outputs": [],
   "source": [
    "#renaming the columns\n",
    "\n",
    "newdf.columns=['statecode','tru','level','2.more males','2.more females','3.more males','3.more females']"
   ]
  },
  {
   "cell_type": "code",
   "execution_count": 5,
   "metadata": {
    "execution": {
     "iopub.execute_input": "2021-11-09T05:44:02.025404Z",
     "iopub.status.busy": "2021-11-09T05:44:02.025085Z",
     "iopub.status.idle": "2021-11-09T05:44:02.026729Z",
     "shell.execute_reply": "2021-11-09T05:44:02.026400Z"
    }
   },
   "outputs": [],
   "source": [
    "#removing the rows that contain metadata\n",
    "\n",
    "newdf=newdf.iloc[5:-3,:]"
   ]
  },
  {
   "cell_type": "code",
   "execution_count": 6,
   "metadata": {
    "execution": {
     "iopub.execute_input": "2021-11-09T05:44:02.030568Z",
     "iopub.status.busy": "2021-11-09T05:44:02.030247Z",
     "iopub.status.idle": "2021-11-09T05:44:02.031832Z",
     "shell.execute_reply": "2021-11-09T05:44:02.031551Z"
    }
   },
   "outputs": [],
   "source": [
    "#selecting rows that have level as one of the literacy groups\n",
    "\n",
    "newdf=newdf[newdf['level']!='Total']\n",
    "newdf=newdf[newdf['level']!='Literate']\n",
    "\n",
    "#selecting rows that have tru as total\n",
    "\n",
    "newdf=newdf[newdf['tru']=='Total']"
   ]
  },
  {
   "cell_type": "code",
   "execution_count": 7,
   "metadata": {
    "execution": {
     "iopub.execute_input": "2021-11-09T05:44:02.034194Z",
     "iopub.status.busy": "2021-11-09T05:44:02.033870Z",
     "iopub.status.idle": "2021-11-09T05:44:02.035836Z",
     "shell.execute_reply": "2021-11-09T05:44:02.035548Z"
    }
   },
   "outputs": [],
   "source": [
    "#removing tru column\n",
    "\n",
    "newdf=newdf.iloc[:,[0,2,3,4,5,6]]"
   ]
  },
  {
   "cell_type": "code",
   "execution_count": 8,
   "metadata": {
    "execution": {
     "iopub.execute_input": "2021-11-09T05:44:02.039717Z",
     "iopub.status.busy": "2021-11-09T05:44:02.039386Z",
     "iopub.status.idle": "2021-11-09T05:44:02.040752Z",
     "shell.execute_reply": "2021-11-09T05:44:02.041020Z"
    }
   },
   "outputs": [],
   "source": [
    "#selecting only the req rows and columns from 'data' dataframe\n",
    "\n",
    "data=data.iloc[6:,[1,4,5,10,11,16,17,19,20,22,23,25,26,28,29,31,32,34,35,37,38,40,41]]"
   ]
  },
  {
   "cell_type": "code",
   "execution_count": 9,
   "metadata": {
    "execution": {
     "iopub.execute_input": "2021-11-09T05:44:02.043868Z",
     "iopub.status.busy": "2021-11-09T05:44:02.043547Z",
     "iopub.status.idle": "2021-11-09T05:44:02.045181Z",
     "shell.execute_reply": "2021-11-09T05:44:02.044901Z"
    }
   },
   "outputs": [],
   "source": [
    "#renaming the columns\n",
    "\n",
    "data.columns=['statecode','tru','age','il.male','il.female','we.male','we.female','bepri.male','bepri.female','pri.male','pri.female','mid.male','mid.female','sec.male','sec.female','highsec.male','highsec.female','ntd.male','ntd.female','td.male','td.female','gna.male','gna.female']"
   ]
  },
  {
   "cell_type": "code",
   "execution_count": 10,
   "metadata": {
    "execution": {
     "iopub.execute_input": "2021-11-09T05:44:02.047903Z",
     "iopub.status.busy": "2021-11-09T05:44:02.047574Z",
     "iopub.status.idle": "2021-11-09T05:44:02.050600Z",
     "shell.execute_reply": "2021-11-09T05:44:02.050304Z"
    }
   },
   "outputs": [],
   "source": [
    "#selecting rows that have tru as total and age as all ages\n",
    "\n",
    "data=data[data['tru']=='Total']\n",
    "data=data[data['age']=='All ages']"
   ]
  },
  {
   "cell_type": "code",
   "execution_count": 11,
   "metadata": {
    "execution": {
     "iopub.execute_input": "2021-11-09T05:44:02.053535Z",
     "iopub.status.busy": "2021-11-09T05:44:02.053216Z",
     "iopub.status.idle": "2021-11-09T05:44:02.054868Z",
     "shell.execute_reply": "2021-11-09T05:44:02.054544Z"
    }
   },
   "outputs": [],
   "source": [
    "#removing tru and age columns\n",
    "\n",
    "data=data.iloc[:,[0,3,4,5,6,7,8,9,10,11,12,13,14,15,16,17,18,19,20,21,22]]"
   ]
  },
  {
   "cell_type": "code",
   "execution_count": 12,
   "metadata": {
    "execution": {
     "iopub.execute_input": "2021-11-09T05:44:02.059974Z",
     "iopub.status.busy": "2021-11-09T05:44:02.059646Z",
     "iopub.status.idle": "2021-11-09T05:44:02.061512Z",
     "shell.execute_reply": "2021-11-09T05:44:02.061191Z"
    }
   },
   "outputs": [],
   "source": [
    "#combining various literacy clases into one class to make them consistent across files\n",
    "\n",
    "# combined below primary and literate without education level into below primary\n",
    "\n",
    "data['bepri.male']=data['we.male']+data['bepri.male']\n",
    "data['bepri.female']=data['we.female']+data['bepri.female']\n",
    "\n",
    "#combined secondary,higher secondary, non technical diploma and technical diploma into secondary\n",
    "\n",
    "data['sec.male']=data['sec.male']+data['highsec.male']+data['ntd.male']+data['td.male']\n",
    "data['sec.female']=data['sec.female']+data['highsec.female']+data['ntd.female']+data['td.female']\n",
    "\n",
    "#selecting only the required columns\n",
    "\n",
    "data=data.iloc[:,[0,1,2,5,6,7,8,9,10,11,12,19,20]]"
   ]
  },
  {
   "cell_type": "code",
   "execution_count": 13,
   "metadata": {
    "execution": {
     "iopub.execute_input": "2021-11-09T05:44:02.063913Z",
     "iopub.status.busy": "2021-11-09T05:44:02.063595Z",
     "iopub.status.idle": "2021-11-09T05:44:02.065135Z",
     "shell.execute_reply": "2021-11-09T05:44:02.065388Z"
    }
   },
   "outputs": [],
   "source": [
    "#creating a new dataframe\n",
    "\n",
    "newdata=pd.DataFrame()"
   ]
  },
  {
   "cell_type": "code",
   "execution_count": 14,
   "metadata": {
    "execution": {
     "iopub.execute_input": "2021-11-09T05:44:02.175683Z",
     "iopub.status.busy": "2021-11-09T05:44:02.134589Z",
     "iopub.status.idle": "2021-11-09T05:44:02.402144Z",
     "shell.execute_reply": "2021-11-09T05:44:02.401802Z"
    }
   },
   "outputs": [],
   "source": [
    "#converting literacy subgroup values which are as columns into rows of new data\n",
    "\n",
    "for i in range(len(data)):\n",
    "    for j in range(1,12,2):\n",
    "        newdata=newdata.append(pd.Series([data.iloc[i,0],data.iloc[i,j],data.iloc[i,j+1]]),ignore_index=True)\n",
    "        \n",
    "#naming the columns of newdata dataframe\n",
    "\n",
    "newdata.columns=['statecode','males','females']\n",
    "\n",
    "#adding column 'level' to new data to detct which literacy group that row belongs to\n",
    "\n",
    "newdata['level']='a'\n",
    "l=['Illiterate','Literate but below primary','Primary but below middle','Middle but below matric/secondary','Matric/Secondary but below graduate','Graduate and above']\n",
    "count=0\n",
    "for i in range(len(newdata)):\n",
    "    newdata.iloc[i,3]=l[count]\n",
    "    count=(count+1)%6"
   ]
  },
  {
   "cell_type": "code",
   "execution_count": 15,
   "metadata": {
    "execution": {
     "iopub.execute_input": "2021-11-09T05:44:02.406361Z",
     "iopub.status.busy": "2021-11-09T05:44:02.406039Z",
     "iopub.status.idle": "2021-11-09T05:44:02.407725Z",
     "shell.execute_reply": "2021-11-09T05:44:02.407388Z"
    }
   },
   "outputs": [],
   "source": [
    "#merging newdf and newdata\n",
    "\n",
    "merged=pd.merge(newdf,newdata)"
   ]
  },
  {
   "cell_type": "code",
   "execution_count": 16,
   "metadata": {
    "execution": {
     "iopub.execute_input": "2021-11-09T05:44:02.411551Z",
     "iopub.status.busy": "2021-11-09T05:44:02.411224Z",
     "iopub.status.idle": "2021-11-09T05:44:02.412894Z",
     "shell.execute_reply": "2021-11-09T05:44:02.412605Z"
    }
   },
   "outputs": [],
   "source": [
    "#converting string to numeric value\n",
    "\n",
    "merged['2.more males']=pd.to_numeric(merged['2.more males'])\n",
    "merged['2.more females']=pd.to_numeric(merged['2.more females'])\n",
    "\n",
    "#converting string to numeric value\n",
    "\n",
    "merged['3.more males']=pd.to_numeric(merged['3.more males'])\n",
    "merged['3.more females']=pd.to_numeric(merged['3.more females'])"
   ]
  },
  {
   "cell_type": "code",
   "execution_count": 17,
   "metadata": {
    "execution": {
     "iopub.execute_input": "2021-11-09T05:44:02.417151Z",
     "iopub.status.busy": "2021-11-09T05:44:02.416827Z",
     "iopub.status.idle": "2021-11-09T05:44:02.418491Z",
     "shell.execute_reply": "2021-11-09T05:44:02.418208Z"
    }
   },
   "outputs": [],
   "source": [
    "#calculating the no of males and females speaking only 1 lang and no of people speaking exactly 2 language by\n",
    "\n",
    "#no of males speaking exactly 2 langs=no of males speaking 2 or more langs in that literacy group - no of males speaking 3 or more langs in that literacy group\n",
    "#no of females speaking exactly 2 langs=no of females speaking 2 or more langs in that literacy group - no of females speaking 3 or more langs in that literacy group\n",
    "\n",
    "merged['exact2males']=merged['2.more males']-merged['3.more males']\n",
    "merged['exact2females']=merged['2.more females']-merged['3.more females']\n",
    "\n",
    "\n",
    "#no of males speaking exactly 1 lang= total no of males in that literacy group-no of males speaking 2 or more langs in that literacy group\n",
    "#no of females speaking exactly 1 lang= total no of females in that literacy group-no of females speaking 2 or more langs in that literacy group\n",
    "\n",
    "merged['exact1males']=merged['males']-merged['2.more males']\n",
    "merged['exact1females']=merged['females']-merged['2.more females']"
   ]
  },
  {
   "cell_type": "code",
   "execution_count": 18,
   "metadata": {
    "execution": {
     "iopub.execute_input": "2021-11-09T05:44:02.423638Z",
     "iopub.status.busy": "2021-11-09T05:44:02.423297Z",
     "iopub.status.idle": "2021-11-09T05:44:02.424724Z",
     "shell.execute_reply": "2021-11-09T05:44:02.424978Z"
    }
   },
   "outputs": [],
   "source": [
    "#calculating the ratio of males and females speaking exactly one, exacly two and three or more languages in a state for each literacy group\n",
    "\n",
    "merged['1.maleratio']=merged['exact1males']/merged['males'] \n",
    "merged['1.femaleratio']=merged['exact1females']/merged['females'] \n",
    "\n",
    "merged['2.maleratio']=merged['exact2males']/merged['males'] \n",
    "merged['2.femaleratio']=merged['exact2females']/merged['females'] \n",
    "\n",
    "merged['3.maleratio']=merged['3.more males']/merged['males'] \n",
    "merged['3.femaleratio']=merged['3.more females']/merged['females'] "
   ]
  },
  {
   "cell_type": "code",
   "execution_count": 19,
   "metadata": {
    "execution": {
     "iopub.execute_input": "2021-11-09T05:44:02.427803Z",
     "iopub.status.busy": "2021-11-09T05:44:02.427480Z",
     "iopub.status.idle": "2021-11-09T05:44:02.428802Z",
     "shell.execute_reply": "2021-11-09T05:44:02.429071Z"
    }
   },
   "outputs": [],
   "source": [
    "#selecting only the required columns from merged data frame\n",
    "\n",
    "merged=merged.iloc[:,[0,1,12,13,14,15,16,17]]"
   ]
  },
  {
   "cell_type": "code",
   "execution_count": 20,
   "metadata": {
    "execution": {
     "iopub.execute_input": "2021-11-09T05:44:02.432394Z",
     "iopub.status.busy": "2021-11-09T05:44:02.432071Z",
     "iopub.status.idle": "2021-11-09T05:44:02.433806Z",
     "shell.execute_reply": "2021-11-09T05:44:02.433478Z"
    }
   },
   "outputs": [],
   "source": [
    "#dividing merged dataframe into 3 diff dataframes containg info about male and female percentage speaking \n",
    "#exactly one lang and exactly speaking 2 langs and speaking 3 or more langs respectively\n",
    "\n",
    "merged1=merged.iloc[:,[0,1,2,3]]\n",
    "merged2=merged.iloc[:,[0,1,-4,-3]]\n",
    "merged3=merged.iloc[:,[0,1,-2,-1]]"
   ]
  },
  {
   "cell_type": "code",
   "execution_count": 21,
   "metadata": {
    "execution": {
     "iopub.execute_input": "2021-11-09T05:44:02.439290Z",
     "iopub.status.busy": "2021-11-09T05:44:02.438938Z",
     "iopub.status.idle": "2021-11-09T05:44:02.440632Z",
     "shell.execute_reply": "2021-11-09T05:44:02.440301Z"
    }
   },
   "outputs": [],
   "source": [
    "#function that takes dataframe having 'statecode','literacygroup','male percent','femalepercent' as columns\n",
    "#here 'malepercent' can be malepercentage speaking exactly one lang or exactly 2 langs or 3 or more langs based on the dataframe passed\n",
    "#here 'femalepercent' can be femalepercentage speaking exactly one lang or exactly 2 langs or 3 or more langs based on the dataframe passed\n",
    "\n",
    "def high(df):\n",
    "    \n",
    "    #renaming the columns\n",
    "    \n",
    "    df.columns=['statecode','level','malepercent','femalepercent']\n",
    "    \n",
    "    #splitting male and female data into two different dataframes\n",
    "    \n",
    "    male=df.iloc[:,[0,1,2]]\n",
    "    female=df.iloc[:,[0,1,3]]\n",
    "    \n",
    "    #creating new dataframe 'highmale' and 'highfemale' to store the literacy group of each state that has the \n",
    "    #highest percentage of males speaking based on malepercent column and highest percentage of females speaking\n",
    "    #based on femalepercent column\n",
    "    \n",
    "    highmale=pd.DataFrame()\n",
    "    highfemale=pd.DataFrame()\n",
    "    \n",
    "    #adding statecode column to highmale and high female dataframes\n",
    "    \n",
    "    g=merged.groupby(by=['statecode'],as_index=False)\n",
    "    \n",
    "    #this list  will store the statecodes\n",
    "    \n",
    "    statecode_list=[]\n",
    "    for i,j in g:\n",
    "        statecode_list.append(i)\n",
    "    \n",
    "    #assigning the statecode_list to statecode column of highmale and high female dataframes\n",
    "    \n",
    "    highmale['statecode']=statecode_list\n",
    "    highfemale['statecode']=statecode_list\n",
    "    \n",
    "    #getting the highest percentage value of  literacy group in males and females\n",
    "    \n",
    "    highmale['malepercent']=male.groupby(by=['statecode'],as_index=False).agg(func='max')['malepercent']\n",
    "    highfemale['femalepercent']=female.groupby(by=['statecode'],as_index=False).agg(func='max')['femalepercent']\n",
    "    \n",
    "    #merging the highmale and male data frame to get the finalmale merged dataframe\n",
    "    #merging the highfemale and female data frame to get the finalfemale merged dataframe\n",
    "    #the merging happens of statecode and the highest percentage value\n",
    "    \n",
    "    finalmalemerged=pd.merge(highmale,male)\n",
    "    finalfemalemerged=pd.merge(highfemale,female)\n",
    "    \n",
    "    #reordering of columns in finalmale merged dataframe\n",
    "    \n",
    "    finalmalemerged=finalmalemerged[['statecode','level','malepercent']]\n",
    "    \n",
    "    #reordering of columns in final female merged dataframe\n",
    "    \n",
    "    finalfemalemerged=finalfemalemerged[['statecode','level','femalepercent']]\n",
    "    \n",
    "    #renaming of columns\n",
    "    \n",
    "    finalmalemerged.columns=['statecode','male literacy group','malepercent']\n",
    "    finalfemalemerged.columns=['statecode','female literacy group','femalepercent']\n",
    "    \n",
    "    #merging the finalmale merged and finalfemale merged dataframe\n",
    "    #merging happens on statecode column(which is common in both )\n",
    "    \n",
    "    finalmerged=pd.merge(finalmalemerged,finalfemalemerged)\n",
    "    \n",
    "    #returning the final merged dataframe\n",
    "    \n",
    "    return finalmerged"
   ]
  },
  {
   "cell_type": "code",
   "execution_count": 22,
   "metadata": {
    "execution": {
     "iopub.execute_input": "2021-11-09T05:44:02.453367Z",
     "iopub.status.busy": "2021-11-09T05:44:02.450133Z",
     "iopub.status.idle": "2021-11-09T05:44:02.493275Z",
     "shell.execute_reply": "2021-11-09T05:44:02.492980Z"
    }
   },
   "outputs": [],
   "source": [
    "#passing merged1.merged2,merged3 as inputs to high function and storing the outputs in output1,output2,output3 respectively\n",
    "\n",
    "output1=high(merged1)\n",
    "output2=high(merged2)\n",
    "output3=high(merged3)"
   ]
  },
  {
   "cell_type": "code",
   "execution_count": 23,
   "metadata": {
    "execution": {
     "iopub.execute_input": "2021-11-09T05:44:02.496147Z",
     "iopub.status.busy": "2021-11-09T05:44:02.495824Z",
     "iopub.status.idle": "2021-11-09T05:44:02.497444Z",
     "shell.execute_reply": "2021-11-09T05:44:02.497116Z"
    }
   },
   "outputs": [],
   "source": [
    "#renaming of columns\n",
    "\n",
    "output1.columns=['state/ut', 'literacy-group-males', 'ratio-males','literacy-group-females', 'ratio-females']\n",
    "output2.columns=['state/ut', 'literacy-group-males', 'ratio-males','literacy-group-females', 'ratio-females']\n",
    "output3.columns=['state/ut', 'literacy-group-males', 'ratio-males','literacy-group-females', 'ratio-females']"
   ]
  },
  {
   "cell_type": "code",
   "execution_count": 24,
   "metadata": {
    "execution": {
     "iopub.execute_input": "2021-11-09T05:44:02.499883Z",
     "iopub.status.busy": "2021-11-09T05:44:02.499514Z",
     "iopub.status.idle": "2021-11-09T05:44:02.503455Z",
     "shell.execute_reply": "2021-11-09T05:44:02.503729Z"
    }
   },
   "outputs": [],
   "source": [
    "#writing output dataframes to their respective csv files\n",
    "\n",
    "output3.to_csv('literacy-gender-a.csv',index=False)\n",
    "output2.to_csv('literacy-gender-b.csv',index=False)\n",
    "output1.to_csv('literacy-gender-c.csv',index=False)"
   ]
  },
  {
   "cell_type": "code",
   "execution_count": null,
   "metadata": {},
   "outputs": [],
   "source": []
  },
  {
   "cell_type": "code",
   "execution_count": null,
   "metadata": {},
   "outputs": [],
   "source": []
  },
  {
   "cell_type": "code",
   "execution_count": null,
   "metadata": {},
   "outputs": [],
   "source": []
  },
  {
   "cell_type": "code",
   "execution_count": null,
   "metadata": {},
   "outputs": [],
   "source": []
  }
 ],
 "metadata": {
  "kernelspec": {
   "display_name": "Python 3",
   "language": "python",
   "name": "python3"
  },
  "language_info": {
   "codemirror_mode": {
    "name": "ipython",
    "version": 3
   },
   "file_extension": ".py",
   "mimetype": "text/x-python",
   "name": "python",
   "nbconvert_exporter": "python",
   "pygments_lexer": "ipython3",
   "version": "3.8.10"
  }
 },
 "nbformat": 4,
 "nbformat_minor": 4
}
