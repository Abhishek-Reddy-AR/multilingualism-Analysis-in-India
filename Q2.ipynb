{
 "cells": [
  {
   "cell_type": "code",
   "execution_count": 1,
   "metadata": {
    "execution": {
     "iopub.execute_input": "2021-11-09T05:43:28.002026Z",
     "iopub.status.busy": "2021-11-09T05:43:28.001629Z",
     "iopub.status.idle": "2021-11-09T05:43:28.508365Z",
     "shell.execute_reply": "2021-11-09T05:43:28.507965Z"
    }
   },
   "outputs": [],
   "source": [
    "#IMPORTING REQUIRED MODULES\n",
    "\n",
    "import pandas as pd\n",
    "import warnings\n",
    "warnings.filterwarnings('ignore')\n",
    "import numpy as np\n",
    "import scipy.stats"
   ]
  },
  {
   "cell_type": "code",
   "execution_count": 2,
   "metadata": {
    "execution": {
     "iopub.execute_input": "2021-11-09T05:43:28.511078Z",
     "iopub.status.busy": "2021-11-09T05:43:28.510759Z",
     "iopub.status.idle": "2021-11-09T05:43:28.708961Z",
     "shell.execute_reply": "2021-11-09T05:43:28.708615Z"
    }
   },
   "outputs": [],
   "source": [
    "#reading the required data files(statewise population data and statewise bilingualism and trilingualism data)\n",
    "\n",
    "newdf=pd.read_excel(r'DDW-C18-0000.xlsx')\n",
    "totpop=pd.read_csv(r'DDW_PCA0000_2011_Indiastatedist.csv')"
   ]
  },
  {
   "cell_type": "code",
   "execution_count": 3,
   "metadata": {
    "execution": {
     "iopub.execute_input": "2021-11-09T05:43:28.711664Z",
     "iopub.status.busy": "2021-11-09T05:43:28.711344Z",
     "iopub.status.idle": "2021-11-09T05:43:28.713105Z",
     "shell.execute_reply": "2021-11-09T05:43:28.712781Z"
    }
   },
   "outputs": [],
   "source": [
    "#renaming the columns in statewise bilingualism and trilingualism data\n",
    "\n",
    "newnames=['statecode','districtcode','state','type','agegroup','2.persons','2.males','2.females','3.persons','3.males','3.females']\n",
    "\n",
    "newdf.columns=newnames"
   ]
  },
  {
   "cell_type": "code",
   "execution_count": 4,
   "metadata": {
    "execution": {
     "iopub.execute_input": "2021-11-09T05:43:28.715345Z",
     "iopub.status.busy": "2021-11-09T05:43:28.714963Z",
     "iopub.status.idle": "2021-11-09T05:43:28.716646Z",
     "shell.execute_reply": "2021-11-09T05:43:28.716367Z"
    }
   },
   "outputs": [],
   "source": [
    "#removing the rows that contain metadata\n",
    "\n",
    "newdf=newdf[5:]"
   ]
  },
  {
   "cell_type": "code",
   "execution_count": 5,
   "metadata": {
    "execution": {
     "iopub.execute_input": "2021-11-09T05:43:28.719907Z",
     "iopub.status.busy": "2021-11-09T05:43:28.719590Z",
     "iopub.status.idle": "2021-11-09T05:43:28.721268Z",
     "shell.execute_reply": "2021-11-09T05:43:28.720945Z"
    }
   },
   "outputs": [],
   "source": [
    "#choosing rows that have 'agegroup' and 'type' as total\n",
    "\n",
    "newdf=newdf[newdf['type']=='Total']\n",
    "newdf=newdf[newdf['agegroup']=='Total']"
   ]
  },
  {
   "cell_type": "code",
   "execution_count": 6,
   "metadata": {
    "execution": {
     "iopub.execute_input": "2021-11-09T05:43:28.723846Z",
     "iopub.status.busy": "2021-11-09T05:43:28.723529Z",
     "iopub.status.idle": "2021-11-09T05:43:28.725259Z",
     "shell.execute_reply": "2021-11-09T05:43:28.724945Z"
    }
   },
   "outputs": [],
   "source": [
    "#selecting only the required columns\n",
    "\n",
    "newdf=newdf.iloc[:,[0,2,6,7,9,10]]"
   ]
  },
  {
   "cell_type": "code",
   "execution_count": 7,
   "metadata": {
    "execution": {
     "iopub.execute_input": "2021-11-09T05:43:28.731187Z",
     "iopub.status.busy": "2021-11-09T05:43:28.730815Z",
     "iopub.status.idle": "2021-11-09T05:43:28.733050Z",
     "shell.execute_reply": "2021-11-09T05:43:28.732780Z"
    }
   },
   "outputs": [
    {
     "data": {
      "text/plain": [
       "Index(['statecode', 'state', '2.males', '2.females', '3.males', '3.females'], dtype='object')"
      ]
     },
     "execution_count": 7,
     "metadata": {},
     "output_type": "execute_result"
    }
   ],
   "source": [
    "#printing the selected column names\n",
    "\n",
    "newdf.columns"
   ]
  },
  {
   "cell_type": "code",
   "execution_count": 8,
   "metadata": {
    "execution": {
     "iopub.execute_input": "2021-11-09T05:43:28.736582Z",
     "iopub.status.busy": "2021-11-09T05:43:28.736257Z",
     "iopub.status.idle": "2021-11-09T05:43:28.737685Z",
     "shell.execute_reply": "2021-11-09T05:43:28.737936Z"
    }
   },
   "outputs": [],
   "source": [
    "#choosing total state population data rows only from population data\n",
    "\n",
    "totpop=totpop[totpop['Level']!='DISTRICT']\n",
    "totpop=totpop[totpop['TRU']=='Total']"
   ]
  },
  {
   "cell_type": "code",
   "execution_count": 9,
   "metadata": {
    "execution": {
     "iopub.execute_input": "2021-11-09T05:43:28.740535Z",
     "iopub.status.busy": "2021-11-09T05:43:28.740217Z",
     "iopub.status.idle": "2021-11-09T05:43:28.741989Z",
     "shell.execute_reply": "2021-11-09T05:43:28.741662Z"
    }
   },
   "outputs": [],
   "source": [
    "#selecting only the required columns\n",
    "\n",
    "totpop=totpop.iloc[:,[7,11,12]]"
   ]
  },
  {
   "cell_type": "code",
   "execution_count": 10,
   "metadata": {
    "execution": {
     "iopub.execute_input": "2021-11-09T05:43:28.744462Z",
     "iopub.status.busy": "2021-11-09T05:43:28.744147Z",
     "iopub.status.idle": "2021-11-09T05:43:28.745827Z",
     "shell.execute_reply": "2021-11-09T05:43:28.745533Z"
    }
   },
   "outputs": [],
   "source": [
    "#changing name 'india' to 'INDIA'\n",
    "\n",
    "totpop.iloc[0,0]='INDIA'"
   ]
  },
  {
   "cell_type": "code",
   "execution_count": 11,
   "metadata": {
    "execution": {
     "iopub.execute_input": "2021-11-09T05:43:28.748284Z",
     "iopub.status.busy": "2021-11-09T05:43:28.747951Z",
     "iopub.status.idle": "2021-11-09T05:43:28.749941Z",
     "shell.execute_reply": "2021-11-09T05:43:28.749616Z"
    }
   },
   "outputs": [
    {
     "data": {
      "text/plain": [
       "Index(['Name', 'TOT_M', 'TOT_F'], dtype='object')"
      ]
     },
     "execution_count": 11,
     "metadata": {},
     "output_type": "execute_result"
    }
   ],
   "source": [
    "#printing the selected column names\n",
    "\n",
    "totpop.columns"
   ]
  },
  {
   "cell_type": "code",
   "execution_count": 12,
   "metadata": {
    "execution": {
     "iopub.execute_input": "2021-11-09T05:43:28.753340Z",
     "iopub.status.busy": "2021-11-09T05:43:28.753022Z",
     "iopub.status.idle": "2021-11-09T05:43:28.754798Z",
     "shell.execute_reply": "2021-11-09T05:43:28.754502Z"
    }
   },
   "outputs": [],
   "source": [
    "#merging the data frames based on state names\n",
    "\n",
    "merged = pd.merge(left=newdf, right=totpop, left_on='state', right_on='Name')"
   ]
  },
  {
   "cell_type": "code",
   "execution_count": 13,
   "metadata": {
    "execution": {
     "iopub.execute_input": "2021-11-09T05:43:28.757804Z",
     "iopub.status.busy": "2021-11-09T05:43:28.757488Z",
     "iopub.status.idle": "2021-11-09T05:43:28.758755Z",
     "shell.execute_reply": "2021-11-09T05:43:28.759007Z"
    }
   },
   "outputs": [],
   "source": [
    "#converting the strings to numeric values\n",
    "\n",
    "merged['3.males']=pd.to_numeric(merged['3.males'])\n",
    "merged['3.females']=pd.to_numeric(merged['3.females'])"
   ]
  },
  {
   "cell_type": "code",
   "execution_count": 14,
   "metadata": {
    "execution": {
     "iopub.execute_input": "2021-11-09T05:43:28.763453Z",
     "iopub.status.busy": "2021-11-09T05:43:28.763123Z",
     "iopub.status.idle": "2021-11-09T05:43:28.764381Z",
     "shell.execute_reply": "2021-11-09T05:43:28.764633Z"
    }
   },
   "outputs": [],
   "source": [
    "#calculating the no of males and females speaking only 1 lang and no of people speaking exactly 2 language by\n",
    "\n",
    "#no of males  speaking exactly 2 langs=no of males speaking 2 or more langs - no of males speaking 3 or more langs\n",
    "#no of females  speaking exactly 2 langs=no of females speaking 2 or more langs - no of females speaking 3 or more langs\n",
    "\n",
    "merged['exact2males']=merged['2.males']-merged['3.males']\n",
    "merged['exact2females']=merged['2.females']-merged['3.females']\n",
    "\n",
    "#no of males speaking exactly 1 lang= total no of males in that state-no of males speaking 2 or more langs\n",
    "#no of females speaking exactly 1 lang= total no of females in that state-no of females speaking 2 or more langs\n",
    "\n",
    "merged['exact1males']=merged['TOT_M']-merged['2.males']\n",
    "merged['exact1females']=merged['TOT_F']-merged['2.females']"
   ]
  },
  {
   "cell_type": "code",
   "execution_count": 15,
   "metadata": {
    "execution": {
     "iopub.execute_input": "2021-11-09T05:43:28.771036Z",
     "iopub.status.busy": "2021-11-09T05:43:28.770508Z",
     "iopub.status.idle": "2021-11-09T05:43:28.772150Z",
     "shell.execute_reply": "2021-11-09T05:43:28.771779Z"
    }
   },
   "outputs": [],
   "source": [
    "#calculating the percentage of males and females speaking exactly one, exacly two and three or more languages in that state\n",
    "\n",
    "merged['exact1permales']=merged['exact1males']/merged['TOT_M']*100\n",
    "merged['exact2permales']=merged['exact2males']/merged['TOT_M']*100\n",
    "merged['3ormorepermales']=merged['3.males']/merged['TOT_M']*100\n",
    "\n",
    "merged['exact1perfemales']=merged['exact1females']/merged['TOT_F']*100\n",
    "merged['exact2perfemales']=merged['exact2females']/merged['TOT_F']*100\n",
    "merged['3ormoreperfemales']=merged['3.females']/merged['TOT_F']*100"
   ]
  },
  {
   "cell_type": "code",
   "execution_count": 16,
   "metadata": {
    "execution": {
     "iopub.execute_input": "2021-11-09T05:43:28.776056Z",
     "iopub.status.busy": "2021-11-09T05:43:28.775732Z",
     "iopub.status.idle": "2021-11-09T05:43:28.777624Z",
     "shell.execute_reply": "2021-11-09T05:43:28.777296Z"
    }
   },
   "outputs": [],
   "source": [
    "#dividing the merged data frame into three different dataframe\n",
    "#part a:exactly 1 lang\n",
    "#part b: exactly 2 lang\n",
    "#part c: 3 or more langs\n",
    "\n",
    "part_a=merged.iloc[:,[0,13,16]]\n",
    "part_b=merged.iloc[:,[0,14,17]]\n",
    "part_c=merged.iloc[:,[0,15,18]]"
   ]
  },
  {
   "cell_type": "code",
   "execution_count": 17,
   "metadata": {
    "execution": {
     "iopub.execute_input": "2021-11-09T05:43:28.781221Z",
     "iopub.status.busy": "2021-11-09T05:43:28.780890Z",
     "iopub.status.idle": "2021-11-09T05:43:28.782454Z",
     "shell.execute_reply": "2021-11-09T05:43:28.782133Z"
    }
   },
   "outputs": [],
   "source": [
    "#function to calculate the p value\n",
    "#takes a dataframe as input ,which has columns as statecode,malepercentage,femalepercentage\n",
    "\n",
    "def p_cal(df):\n",
    "    \n",
    "    #calculating the difference between male and female percentages\n",
    "    \n",
    "    diff=abs(df.iloc[:,1]-df.iloc[:,2])\n",
    "    \n",
    "    #calculating the mean of the differences\n",
    "    \n",
    "    mean=np.mean(diff)\n",
    "    \n",
    "    #calculating the standard deviation of the differences\n",
    "    \n",
    "    sd=np.std(diff)\n",
    "    \n",
    "    #computing the z score for each difference value based on computed mean and standard deviation\n",
    "    \n",
    "    zscore=(diff-mean)/sd\n",
    "    \n",
    "    #list to store the p values\n",
    "    \n",
    "    p=[]\n",
    "    \n",
    "    #converting each zscore value to p value\n",
    "    \n",
    "    for i in range(len(zscore)):\n",
    "        \n",
    "        #we are doing two tailed test , so we are multiplying the final value by 2\n",
    "        \n",
    "        p.append(scipy.stats.norm.sf(abs(zscore[i]))*2)\n",
    "    \n",
    "    #returning the p values\n",
    "    \n",
    "    return p"
   ]
  },
  {
   "cell_type": "code",
   "execution_count": 18,
   "metadata": {
    "execution": {
     "iopub.execute_input": "2021-11-09T05:43:28.786611Z",
     "iopub.status.busy": "2021-11-09T05:43:28.786290Z",
     "iopub.status.idle": "2021-11-09T05:43:28.797285Z",
     "shell.execute_reply": "2021-11-09T05:43:28.797012Z"
    }
   },
   "outputs": [],
   "source": [
    "#storing the p values of each part in lists\n",
    "\n",
    "p_a=p_cal(part_a)\n",
    "p_b=p_cal(part_b)\n",
    "p_c=p_cal(part_c)"
   ]
  },
  {
   "cell_type": "code",
   "execution_count": 19,
   "metadata": {
    "execution": {
     "iopub.execute_input": "2021-11-09T05:43:28.800597Z",
     "iopub.status.busy": "2021-11-09T05:43:28.800280Z",
     "iopub.status.idle": "2021-11-09T05:43:28.801747Z",
     "shell.execute_reply": "2021-11-09T05:43:28.802000Z"
    }
   },
   "outputs": [],
   "source": [
    "#adding p values to the dataframes\n",
    "\n",
    "part_a['p']=p_a\n",
    "part_b['p']=p_b\n",
    "part_c['p']=p_c"
   ]
  },
  {
   "cell_type": "code",
   "execution_count": 20,
   "metadata": {
    "execution": {
     "iopub.execute_input": "2021-11-09T05:43:28.804831Z",
     "iopub.status.busy": "2021-11-09T05:43:28.804514Z",
     "iopub.status.idle": "2021-11-09T05:43:28.806105Z",
     "shell.execute_reply": "2021-11-09T05:43:28.805783Z"
    }
   },
   "outputs": [],
   "source": [
    "#renaming the columns\n",
    "\n",
    "part_a.columns=['statecode','male-percentage','female-percentage', 'p-value']\n",
    "part_b.columns=['statecode','male-percentage','female-percentage', 'p-value']\n",
    "part_c.columns=['statecode','male-percentage','female-percentage', 'p-value']"
   ]
  },
  {
   "cell_type": "code",
   "execution_count": 21,
   "metadata": {
    "execution": {
     "iopub.execute_input": "2021-11-09T05:43:28.809602Z",
     "iopub.status.busy": "2021-11-09T05:43:28.809234Z",
     "iopub.status.idle": "2021-11-09T05:43:28.812469Z",
     "shell.execute_reply": "2021-11-09T05:43:28.812197Z"
    }
   },
   "outputs": [],
   "source": [
    "#writing dataframes to output files\n",
    "\n",
    "part_a.to_csv('gender-india-a.csv',index=False)\n",
    "part_b.to_csv('gender-india-b.csv',index=False)\n",
    "part_c.to_csv('gender-india-c.csv',index=False)"
   ]
  },
  {
   "cell_type": "code",
   "execution_count": null,
   "metadata": {},
   "outputs": [],
   "source": []
  },
  {
   "cell_type": "code",
   "execution_count": null,
   "metadata": {},
   "outputs": [],
   "source": []
  }
 ],
 "metadata": {
  "kernelspec": {
   "display_name": "Python 3",
   "language": "python",
   "name": "python3"
  },
  "language_info": {
   "codemirror_mode": {
    "name": "ipython",
    "version": 3
   },
   "file_extension": ".py",
   "mimetype": "text/x-python",
   "name": "python",
   "nbconvert_exporter": "python",
   "pygments_lexer": "ipython3",
   "version": "3.8.10"
  }
 },
 "nbformat": 4,
 "nbformat_minor": 4
}
