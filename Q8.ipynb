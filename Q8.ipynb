{
 "cells": [
  {
   "cell_type": "code",
   "execution_count": 1,
   "metadata": {
    "execution": {
     "iopub.execute_input": "2021-11-09T05:43:58.356608Z",
     "iopub.status.busy": "2021-11-09T05:43:58.356249Z",
     "iopub.status.idle": "2021-11-09T05:43:58.558345Z",
     "shell.execute_reply": "2021-11-09T05:43:58.557943Z"
    }
   },
   "outputs": [],
   "source": [
    "#IMPORTING REQUIRED MODULES\n",
    "\n",
    "import pandas as pd\n",
    "import warnings\n",
    "warnings.filterwarnings('ignore')"
   ]
  },
  {
   "cell_type": "code",
   "execution_count": 2,
   "metadata": {
    "execution": {
     "iopub.execute_input": "2021-11-09T05:43:58.560844Z",
     "iopub.status.busy": "2021-11-09T05:43:58.560519Z",
     "iopub.status.idle": "2021-11-09T05:43:58.774103Z",
     "shell.execute_reply": "2021-11-09T05:43:58.773758Z"
    }
   },
   "outputs": [],
   "source": [
    "#reading required data files\n",
    "\n",
    "newdf=pd.read_excel(r'DDW-C18-0000.xlsx') #population by bilingualism , trilinguaalism , age\n",
    "c14=pd.read_excel(r'DDW-0000C-14.xls') #POPULATION IN FIVE YEAR AGE-GROUP BY RESIDENCE AND SEX"
   ]
  },
  {
   "cell_type": "code",
   "execution_count": 3,
   "metadata": {
    "execution": {
     "iopub.execute_input": "2021-11-09T05:43:58.776813Z",
     "iopub.status.busy": "2021-11-09T05:43:58.776493Z",
     "iopub.status.idle": "2021-11-09T05:43:58.778079Z",
     "shell.execute_reply": "2021-11-09T05:43:58.777753Z"
    }
   },
   "outputs": [],
   "source": [
    "#renaming the columns in newdf\n",
    "\n",
    "newnames=['statecode','districtcode','state','type','agegroup','2.persons','2.males','2.females','3.persons','3.males','3.females']\n",
    "newdf.columns=newnames"
   ]
  },
  {
   "cell_type": "code",
   "execution_count": 4,
   "metadata": {
    "execution": {
     "iopub.execute_input": "2021-11-09T05:43:58.781770Z",
     "iopub.status.busy": "2021-11-09T05:43:58.781448Z",
     "iopub.status.idle": "2021-11-09T05:43:58.783094Z",
     "shell.execute_reply": "2021-11-09T05:43:58.782770Z"
    }
   },
   "outputs": [],
   "source": [
    "#removing the rows that contain metadata\n",
    "\n",
    "newdf=newdf[5:]\n",
    "\n",
    "#choosing rows that have 'agegroup' not equal to total and 'type' as total\n",
    "\n",
    "newdf=newdf[newdf['type']=='Total']\n",
    "newdf=newdf[newdf['agegroup']!='Total']"
   ]
  },
  {
   "cell_type": "code",
   "execution_count": 5,
   "metadata": {
    "execution": {
     "iopub.execute_input": "2021-11-09T05:43:58.786295Z",
     "iopub.status.busy": "2021-11-09T05:43:58.785843Z",
     "iopub.status.idle": "2021-11-09T05:43:58.787833Z",
     "shell.execute_reply": "2021-11-09T05:43:58.787555Z"
    }
   },
   "outputs": [
    {
     "name": "stdout",
     "output_type": "stream",
     "text": [
      "Index(['statecode', 'agegroup', '2.males', '2.females', '3.males',\n",
      "       '3.females'],\n",
      "      dtype='object')\n"
     ]
    }
   ],
   "source": [
    "#selecting only the required columns\n",
    "\n",
    "newdf=newdf.iloc[:,[0,4,6,7,9,10]]\n",
    "\n",
    "#printing the selected column names\n",
    "\n",
    "print(newdf.columns)"
   ]
  },
  {
   "cell_type": "code",
   "execution_count": 6,
   "metadata": {
    "execution": {
     "iopub.execute_input": "2021-11-09T05:43:58.791826Z",
     "iopub.status.busy": "2021-11-09T05:43:58.791503Z",
     "iopub.status.idle": "2021-11-09T05:43:58.793043Z",
     "shell.execute_reply": "2021-11-09T05:43:58.792719Z"
    }
   },
   "outputs": [],
   "source": [
    "#converting string to numeric values\n",
    "\n",
    "newdf['2.males']=pd.to_numeric(newdf['2.males'])\n",
    "newdf['2.females']=pd.to_numeric(newdf['2.females'])\n",
    "\n",
    "newdf['3.males']=pd.to_numeric(newdf['3.males'])\n",
    "newdf['3.females']=pd.to_numeric(newdf['3.females'])"
   ]
  },
  {
   "cell_type": "code",
   "execution_count": 7,
   "metadata": {
    "execution": {
     "iopub.execute_input": "2021-11-09T05:43:58.795653Z",
     "iopub.status.busy": "2021-11-09T05:43:58.795332Z",
     "iopub.status.idle": "2021-11-09T05:43:58.796978Z",
     "shell.execute_reply": "2021-11-09T05:43:58.796647Z"
    }
   },
   "outputs": [],
   "source": [
    "#selecting only required columns from c14 data frame\n",
    "\n",
    "c14=c14.iloc[:,[1,4,6,7]]"
   ]
  },
  {
   "cell_type": "code",
   "execution_count": 8,
   "metadata": {
    "execution": {
     "iopub.execute_input": "2021-11-09T05:43:58.799394Z",
     "iopub.status.busy": "2021-11-09T05:43:58.799068Z",
     "iopub.status.idle": "2021-11-09T05:43:58.800727Z",
     "shell.execute_reply": "2021-11-09T05:43:58.800400Z"
    }
   },
   "outputs": [],
   "source": [
    "#renaming the selected columns\n",
    "\n",
    "c14.columns=['statecode','agegroup','males','females']"
   ]
  },
  {
   "cell_type": "code",
   "execution_count": 9,
   "metadata": {
    "execution": {
     "iopub.execute_input": "2021-11-09T05:43:58.803008Z",
     "iopub.status.busy": "2021-11-09T05:43:58.802693Z",
     "iopub.status.idle": "2021-11-09T05:43:58.804345Z",
     "shell.execute_reply": "2021-11-09T05:43:58.804081Z"
    }
   },
   "outputs": [],
   "source": [
    "#removing the rows that contain metadata\n",
    "\n",
    "c14=c14.iloc[6:,:]"
   ]
  },
  {
   "cell_type": "code",
   "execution_count": 10,
   "metadata": {
    "execution": {
     "iopub.execute_input": "2021-11-09T05:43:58.807160Z",
     "iopub.status.busy": "2021-11-09T05:43:58.806838Z",
     "iopub.status.idle": "2021-11-09T05:43:58.808310Z",
     "shell.execute_reply": "2021-11-09T05:43:58.808031Z"
    }
   },
   "outputs": [],
   "source": [
    "#removing the rows in newdf that contain age as 'age not stated'\n",
    "\n",
    "newdf=newdf[newdf['agegroup']!='Age not stated']"
   ]
  },
  {
   "cell_type": "code",
   "execution_count": 11,
   "metadata": {
    "execution": {
     "iopub.execute_input": "2021-11-09T05:43:58.811803Z",
     "iopub.status.busy": "2021-11-09T05:43:58.811418Z",
     "iopub.status.idle": "2021-11-09T05:43:58.813270Z",
     "shell.execute_reply": "2021-11-09T05:43:58.812993Z"
    }
   },
   "outputs": [],
   "source": [
    "#removing the age groups from c14 that are not present in newdf(for consistency)\n",
    "\n",
    "c14=c14[c14['agegroup']!='Age not stated']\n",
    "c14=c14[c14['agegroup']!='All ages']\n",
    "c14=c14[c14['agegroup']!='0-4']"
   ]
  },
  {
   "cell_type": "code",
   "execution_count": 12,
   "metadata": {
    "execution": {
     "iopub.execute_input": "2021-11-09T05:43:58.822457Z",
     "iopub.status.busy": "2021-11-09T05:43:58.819046Z",
     "iopub.status.idle": "2021-11-09T05:43:58.824575Z",
     "shell.execute_reply": "2021-11-09T05:43:58.824244Z"
    }
   },
   "outputs": [
    {
     "name": "stdout",
     "output_type": "stream",
     "text": [
      "Index(['statecode', 'agegroup', 'males', 'females'], dtype='object')\n"
     ]
    }
   ],
   "source": [
    "#selecting all the rows from c14 that have age group between 30 to 49 to make them as a single group 30-49\n",
    "\n",
    "x=c14[c14['agegroup']=='30-34']\n",
    "x=x.append(c14[c14['agegroup']=='35-39'])\n",
    "x=x.append(c14[c14['agegroup']=='40-44'])\n",
    "x=x.append(c14[c14['agegroup']=='45-49'])\n",
    "\n",
    "#selecting only the required columns from x\n",
    "\n",
    "x=x.iloc[:,[0,2,3]]\n",
    "\n",
    "#convertig string to numeric value\n",
    "\n",
    "x['males']=pd.to_numeric(x['males'])\n",
    "x['females']=pd.to_numeric(x['females'])\n",
    "\n",
    "#grouped data frame contains state code and the total persons present in age group 30-49 in that state\n",
    "\n",
    "grouped=x.groupby(by=['statecode'],as_index=False).agg(func='sum')\n",
    "\n",
    "#adding a new column to grouped data frame 'age' as 30-49\n",
    "\n",
    "grouped['agegroup']='30-49'\n",
    "\n",
    "#reordering the columns in grouped (so that it can we merged later with other dataframe)\n",
    "\n",
    "grouped=grouped[['statecode', 'agegroup', 'males', 'females']]\n",
    "\n",
    "#after reordering , printing current columns in grouped\n",
    "\n",
    "print(grouped.columns)"
   ]
  },
  {
   "cell_type": "code",
   "execution_count": 13,
   "metadata": {
    "execution": {
     "iopub.execute_input": "2021-11-09T05:43:58.832249Z",
     "iopub.status.busy": "2021-11-09T05:43:58.831459Z",
     "iopub.status.idle": "2021-11-09T05:43:58.834925Z",
     "shell.execute_reply": "2021-11-09T05:43:58.835248Z"
    }
   },
   "outputs": [
    {
     "name": "stdout",
     "output_type": "stream",
     "text": [
      "Index(['statecode', 'agegroup', 'males', 'females'], dtype='object')\n"
     ]
    }
   ],
   "source": [
    "#selecting all the rows from c14 that have age group between 50 to 69 to make them as a single group 50-69\n",
    "\n",
    "x1=c14[c14['agegroup']=='50-54']\n",
    "x1=x1.append(c14[c14['agegroup']=='55-59'])\n",
    "x1=x1.append(c14[c14['agegroup']=='60-64'])\n",
    "x1=x1.append(c14[c14['agegroup']=='65-69'])\n",
    "\n",
    "#selecting only the required columns from x1\n",
    "\n",
    "x1=x1.iloc[:,[0,2,3]]\n",
    "\n",
    "#convertig string to numeric value\n",
    "\n",
    "x1['males']=pd.to_numeric(x1['males'])\n",
    "x1['females']=pd.to_numeric(x1['females'])\n",
    "\n",
    "#grouped1 data frame contains state code and the total persons present in age group 50-69 in that state\n",
    "\n",
    "grouped1=x1.groupby(by=['statecode'],as_index=False).agg(func='sum')\n",
    "\n",
    "#adding a new column to grouped1 data frame 'age' as 50-69\n",
    "\n",
    "grouped1['agegroup']='50-69'\n",
    "\n",
    "#reordering the columns in grouped1 (so that it can we merged later with other dataframe)\n",
    "\n",
    "grouped1=grouped1[['statecode', 'agegroup', 'males', 'females']]\n",
    "\n",
    "#after reordering , printing current columns in grouped1\n",
    "\n",
    "print(grouped1.columns)"
   ]
  },
  {
   "cell_type": "code",
   "execution_count": 14,
   "metadata": {
    "execution": {
     "iopub.execute_input": "2021-11-09T05:43:58.842205Z",
     "iopub.status.busy": "2021-11-09T05:43:58.841860Z",
     "iopub.status.idle": "2021-11-09T05:43:58.844873Z",
     "shell.execute_reply": "2021-11-09T05:43:58.845142Z"
    }
   },
   "outputs": [
    {
     "name": "stdout",
     "output_type": "stream",
     "text": [
      "Index(['statecode', 'agegroup', 'males', 'females'], dtype='object')\n"
     ]
    }
   ],
   "source": [
    "#selecting all the rows from c14 that have age as 70+ to make them as a single group\n",
    "\n",
    "x2=c14[c14['agegroup']=='70-74']\n",
    "x2=x2.append(c14[c14['agegroup']=='75-79'])\n",
    "x2=x2.append(c14[c14['agegroup']=='80+'])\n",
    "\n",
    "#selecting only the required columns from x2\n",
    "\n",
    "x2=x2.iloc[:,[0,2,3]]\n",
    "\n",
    "#convertig string to numeric value\n",
    "\n",
    "x2['males']=pd.to_numeric(x2['males'])\n",
    "x2['females']=pd.to_numeric(x2['females'])\n",
    "\n",
    "#grouped2 data frame contains state code and the total persons present in age group 70+ in that state\n",
    "\n",
    "grouped2=x2.groupby(by=['statecode'],as_index=False).agg(func='sum')\n",
    "\n",
    "#adding a new column to grouped2 data frame 'age' as 70+\n",
    "\n",
    "grouped2['agegroup']='70+'\n",
    "\n",
    "#reordering the columns in grouped2 (so that it can we merged later with other dataframe\n",
    "\n",
    "grouped2=grouped2[['statecode', 'agegroup', 'males', 'females']]\n",
    "\n",
    "#after reordering , printing current columns in grouped2\n",
    "\n",
    "print(grouped2.columns)"
   ]
  },
  {
   "cell_type": "code",
   "execution_count": 15,
   "metadata": {
    "execution": {
     "iopub.execute_input": "2021-11-09T05:43:58.849394Z",
     "iopub.status.busy": "2021-11-09T05:43:58.848630Z",
     "iopub.status.idle": "2021-11-09T05:43:58.853544Z",
     "shell.execute_reply": "2021-11-09T05:43:58.853256Z"
    }
   },
   "outputs": [],
   "source": [
    "#removing all the rows in c14 that contain age group 30+\n",
    "\n",
    "c14=c14[c14['agegroup']!='30-34']\n",
    "c14=c14[c14['agegroup']!='35-39']\n",
    "c14=c14[c14['agegroup']!='40-44']\n",
    "c14=c14[c14['agegroup']!='45-49']\n",
    "c14=c14[c14['agegroup']!='50-54']\n",
    "c14=c14[c14['agegroup']!='55-59']\n",
    "c14=c14[c14['agegroup']!='60-64']\n",
    "c14=c14[c14['agegroup']!='65-69']\n",
    "c14=c14[c14['agegroup']!='70-74']\n",
    "c14=c14[c14['agegroup']!='75-79']\n",
    "c14=c14[c14['agegroup']!='80+']"
   ]
  },
  {
   "cell_type": "code",
   "execution_count": 16,
   "metadata": {
    "execution": {
     "iopub.execute_input": "2021-11-09T05:43:58.856574Z",
     "iopub.status.busy": "2021-11-09T05:43:58.856248Z",
     "iopub.status.idle": "2021-11-09T05:43:58.857935Z",
     "shell.execute_reply": "2021-11-09T05:43:58.857610Z"
    }
   },
   "outputs": [],
   "source": [
    "#appending grouped,grouped1,grouped2 data frame to c14(now the age groups from c14 and newdf are consistent)\n",
    "\n",
    "c14=c14.append([grouped,grouped1,grouped2])"
   ]
  },
  {
   "cell_type": "code",
   "execution_count": 17,
   "metadata": {
    "execution": {
     "iopub.execute_input": "2021-11-09T05:43:58.861455Z",
     "iopub.status.busy": "2021-11-09T05:43:58.861075Z",
     "iopub.status.idle": "2021-11-09T05:43:58.863405Z",
     "shell.execute_reply": "2021-11-09T05:43:58.863677Z"
    }
   },
   "outputs": [],
   "source": [
    "#merging newdf and c14 based on statecode and agegroup columns(columns with same name in both dataframes)\n",
    "\n",
    "merged=pd.merge(newdf,c14)"
   ]
  },
  {
   "cell_type": "code",
   "execution_count": 18,
   "metadata": {
    "execution": {
     "iopub.execute_input": "2021-11-09T05:43:58.869481Z",
     "iopub.status.busy": "2021-11-09T05:43:58.869021Z",
     "iopub.status.idle": "2021-11-09T05:43:58.871188Z",
     "shell.execute_reply": "2021-11-09T05:43:58.870905Z"
    }
   },
   "outputs": [
    {
     "data": {
      "text/plain": [
       "Index(['statecode', 'agegroup', '2.males', '2.females', '3.males', '3.females',\n",
       "       'males', 'females'],\n",
       "      dtype='object')"
      ]
     },
     "execution_count": 18,
     "metadata": {},
     "output_type": "execute_result"
    }
   ],
   "source": [
    "#printing the columns in merged data frame\n",
    "\n",
    "merged.columns"
   ]
  },
  {
   "cell_type": "code",
   "execution_count": 19,
   "metadata": {
    "execution": {
     "iopub.execute_input": "2021-11-09T05:43:58.874336Z",
     "iopub.status.busy": "2021-11-09T05:43:58.874013Z",
     "iopub.status.idle": "2021-11-09T05:43:58.875654Z",
     "shell.execute_reply": "2021-11-09T05:43:58.875323Z"
    }
   },
   "outputs": [],
   "source": [
    "#converting string to numeric value\n",
    "\n",
    "merged['males']=pd.to_numeric(merged['males'])\n",
    "merged['females']=pd.to_numeric(merged['females'])"
   ]
  },
  {
   "cell_type": "code",
   "execution_count": 20,
   "metadata": {
    "execution": {
     "iopub.execute_input": "2021-11-09T05:43:58.880110Z",
     "iopub.status.busy": "2021-11-09T05:43:58.879777Z",
     "iopub.status.idle": "2021-11-09T05:43:58.881475Z",
     "shell.execute_reply": "2021-11-09T05:43:58.881151Z"
    }
   },
   "outputs": [],
   "source": [
    "#calculating the no of males and females speaking only 1 lang and no of people speaking exactly 2 language by\n",
    "\n",
    "#no of males speaking exactly 2 langs=no of males speaking 2 or more langs in that age group - no of males speaking 3 or more langs in that age group\n",
    "#no of females speaking exactly 2 langs=no of females speaking 2 or more langs in that age group - no of females speaking 3 or more langs in that age group\n",
    "\n",
    "merged['exact2males']=merged['2.males']-merged['3.males']\n",
    "merged['exact2females']=merged['2.females']-merged['3.females']\n",
    "\n",
    "\n",
    "#no of males speaking exactly 1 lang= total no of males in that age group-no of males speaking 2 or more langs in that age group\n",
    "#no of females speaking exactly 1 lang= total no of females in that age group-no of females speaking 2 or more langs in that age group\n",
    "\n",
    "merged['exact1males']=merged['males']-merged['2.males']\n",
    "merged['exact1females']=merged['females']-merged['2.females']"
   ]
  },
  {
   "cell_type": "code",
   "execution_count": 21,
   "metadata": {
    "execution": {
     "iopub.execute_input": "2021-11-09T05:43:58.886728Z",
     "iopub.status.busy": "2021-11-09T05:43:58.886402Z",
     "iopub.status.idle": "2021-11-09T05:43:58.887965Z",
     "shell.execute_reply": "2021-11-09T05:43:58.887682Z"
    }
   },
   "outputs": [],
   "source": [
    "#calculating the ratio of males and females speaking exactly one, exacly two and three or more languages in a state for each age group\n",
    "\n",
    "merged['1.maleratio']=merged['exact1males']/merged['males']\n",
    "merged['1.femaleratio']=merged['exact1females']/merged['females'] \n",
    "\n",
    "merged['2.maleratio']=merged['exact2males']/merged['males'] \n",
    "merged['2.femaleratio']=merged['exact2females']/merged['females'] \n",
    "\n",
    "merged['3.maleratio']=merged['3.males']/merged['males'] \n",
    "merged['3.femaleratio']=merged['3.females']/merged['females'] "
   ]
  },
  {
   "cell_type": "code",
   "execution_count": 22,
   "metadata": {
    "execution": {
     "iopub.execute_input": "2021-11-09T05:43:58.890562Z",
     "iopub.status.busy": "2021-11-09T05:43:58.890109Z",
     "iopub.status.idle": "2021-11-09T05:43:58.892222Z",
     "shell.execute_reply": "2021-11-09T05:43:58.891943Z"
    }
   },
   "outputs": [],
   "source": [
    "#selecting only the required columns from merged data frame\n",
    "\n",
    "merged=merged.iloc[:,[0,1,12,13,14,15,16,17]]"
   ]
  },
  {
   "cell_type": "code",
   "execution_count": 23,
   "metadata": {
    "execution": {
     "iopub.execute_input": "2021-11-09T05:43:58.894760Z",
     "iopub.status.busy": "2021-11-09T05:43:58.894277Z",
     "iopub.status.idle": "2021-11-09T05:43:58.896303Z",
     "shell.execute_reply": "2021-11-09T05:43:58.895976Z"
    }
   },
   "outputs": [
    {
     "data": {
      "text/plain": [
       "Index(['statecode', 'agegroup', '1.maleratio', '1.femaleratio', '2.maleratio',\n",
       "       '2.femaleratio', '3.maleratio', '3.femaleratio'],\n",
       "      dtype='object')"
      ]
     },
     "execution_count": 23,
     "metadata": {},
     "output_type": "execute_result"
    }
   ],
   "source": [
    "#printing the selected columns\n",
    "\n",
    "merged.columns"
   ]
  },
  {
   "cell_type": "code",
   "execution_count": 24,
   "metadata": {
    "execution": {
     "iopub.execute_input": "2021-11-09T05:43:58.899751Z",
     "iopub.status.busy": "2021-11-09T05:43:58.899427Z",
     "iopub.status.idle": "2021-11-09T05:43:58.901044Z",
     "shell.execute_reply": "2021-11-09T05:43:58.900723Z"
    }
   },
   "outputs": [],
   "source": [
    "#dividing merged dataframe into 3 diff dataframes containg info about male and female percentage speaking \n",
    "#exactly one lang and exactly speaking 2 langs and speaking 3 or more langs respectively\n",
    "\n",
    "merged1=merged.iloc[:,[0,1,2,3]]\n",
    "merged2=merged.iloc[:,[0,1,-4,-3]]\n",
    "merged3=merged.iloc[:,[0,1,-2,-1]]"
   ]
  },
  {
   "cell_type": "code",
   "execution_count": 25,
   "metadata": {
    "execution": {
     "iopub.execute_input": "2021-11-09T05:43:58.906976Z",
     "iopub.status.busy": "2021-11-09T05:43:58.906612Z",
     "iopub.status.idle": "2021-11-09T05:43:58.908523Z",
     "shell.execute_reply": "2021-11-09T05:43:58.908225Z"
    }
   },
   "outputs": [],
   "source": [
    "#function that takes data frame that has 'statecode','agegroup','male percent','femalepercent' as columns\n",
    "#here 'malepercent' can be malepercentage speaking exactly one lang or exactly 2 langs or 3 or more langs based on the dataframe passed\n",
    "#here 'femalepercent' can be femalepercentage speaking exactly one lang or exactly 2 langs or 3 or more langs based on the dataframe passed\n",
    "\n",
    "def high(df):\n",
    "    \n",
    "    #renaming the columns\n",
    "    \n",
    "    df.columns=['statecode','agegroup','malepercent','femalepercent']\n",
    "    \n",
    "    #splitting male and female data into two different dataframes\n",
    "    \n",
    "    male=df.iloc[:,[0,1,2]]\n",
    "    female=df.iloc[:,[0,1,3]]\n",
    "    \n",
    "    #creating new dataframe 'highmale' and 'highfemale' to store the age group of each state that has the \n",
    "    #highest percentage of males speaking based on malepercent column and highest percentage of females speaking\n",
    "    #based on femalepercent column\n",
    "    \n",
    "    highmale=pd.DataFrame()\n",
    "    highfemale=pd.DataFrame()\n",
    "    \n",
    "    #adding statecode column to highmale and high female dataframes\n",
    "    \n",
    "    g=merged.groupby(by=['statecode'],as_index=False)\n",
    "    \n",
    "    #this list  will store the statecodes\n",
    "    \n",
    "    statecode_list=[]\n",
    "    for i,j in g:\n",
    "        statecode_list.append(i)\n",
    "    \n",
    "    #assigning the statecode_list to statecode column of highmale and high female dataframes\n",
    "    \n",
    "    highmale['statecode']=statecode_list\n",
    "    highfemale['statecode']=statecode_list\n",
    "    \n",
    "    #getting the highest percentage value of  age group in males and females\n",
    "    \n",
    "    highmale['malepercent']=male.groupby(by=['statecode'],as_index=False).agg(func='max')['malepercent']\n",
    "    highfemale['femalepercent']=female.groupby(by=['statecode'],as_index=False).agg(func='max')['femalepercent']\n",
    "    \n",
    "    #merging the highmale and male data frame to get the finalmale merged dataframe\n",
    "    #merging the highfemale and female data frame to get the finalfemale merged dataframe\n",
    "    #the merging happens of statecode and the highest percentage value\n",
    "    \n",
    "    finalmalemerged=pd.merge(highmale,male)\n",
    "    finalfemalemerged=pd.merge(highfemale,female)\n",
    "    \n",
    "    #reordering of columns in finalmale merged dataframe\n",
    "    \n",
    "    finalmalemerged=finalmalemerged[['statecode','agegroup','malepercent']]\n",
    "    \n",
    "    #reordering of columns in final female merged dataframe\n",
    "    \n",
    "    finalfemalemerged=finalfemalemerged[['statecode','agegroup','femalepercent']]\n",
    "    \n",
    "    #renaming of columns\n",
    "    \n",
    "    finalmalemerged.columns=['statecode','males-age-group','males-ratio']\n",
    "    finalfemalemerged.columns=['statecode','females-age-group','females-ratio']\n",
    "    \n",
    "    #merging the finalmale merged and finalfemale merged dataframe\n",
    "    #merging happens on statecode column(which is common in both )\n",
    "    \n",
    "    finalmerged=pd.merge(finalmalemerged,finalfemalemerged)\n",
    "    \n",
    "    #returning the final merged dataframe\n",
    "    \n",
    "    return finalmerged"
   ]
  },
  {
   "cell_type": "code",
   "execution_count": 26,
   "metadata": {
    "execution": {
     "iopub.execute_input": "2021-11-09T05:43:58.912007Z",
     "iopub.status.busy": "2021-11-09T05:43:58.911608Z",
     "iopub.status.idle": "2021-11-09T05:43:58.962745Z",
     "shell.execute_reply": "2021-11-09T05:43:58.962449Z"
    }
   },
   "outputs": [],
   "source": [
    "#passing merged1.merged2,merged3 as inputs to high function and storing the outputs in output1,output2,output3 respectively\n",
    "\n",
    "output1=high(merged1)\n",
    "output2=high(merged2)\n",
    "output3=high(merged3)"
   ]
  },
  {
   "cell_type": "code",
   "execution_count": 27,
   "metadata": {
    "execution": {
     "iopub.execute_input": "2021-11-09T05:43:58.965753Z",
     "iopub.status.busy": "2021-11-09T05:43:58.965435Z",
     "iopub.status.idle": "2021-11-09T05:43:58.967237Z",
     "shell.execute_reply": "2021-11-09T05:43:58.966914Z"
    }
   },
   "outputs": [],
   "source": [
    "#renaming the columns\n",
    "\n",
    "output1.columns=['state/ut', 'age-group-males', 'ratio-males', 'age-group-females','ratio-females']\n",
    "output2.columns=['state/ut', 'age-group-males', 'ratio-males', 'age-group-females','ratio-females']\n",
    "output3.columns=['state/ut', 'age-group-males', 'ratio-males', 'age-group-females','ratio-females']"
   ]
  },
  {
   "cell_type": "code",
   "execution_count": 28,
   "metadata": {
    "execution": {
     "iopub.execute_input": "2021-11-09T05:43:58.970235Z",
     "iopub.status.busy": "2021-11-09T05:43:58.969879Z",
     "iopub.status.idle": "2021-11-09T05:43:58.973803Z",
     "shell.execute_reply": "2021-11-09T05:43:58.973483Z"
    }
   },
   "outputs": [],
   "source": [
    "#writing output dataframes to their respective csv files\n",
    "\n",
    "output3.to_csv('age-gender-a.csv',index=False)\n",
    "output2.to_csv('age-gender-b.csv',index=False)\n",
    "output1.to_csv('age-gender-c.csv',index=False)"
   ]
  },
  {
   "cell_type": "code",
   "execution_count": null,
   "metadata": {},
   "outputs": [],
   "source": []
  },
  {
   "cell_type": "code",
   "execution_count": null,
   "metadata": {},
   "outputs": [],
   "source": []
  },
  {
   "cell_type": "code",
   "execution_count": null,
   "metadata": {},
   "outputs": [],
   "source": []
  },
  {
   "cell_type": "code",
   "execution_count": null,
   "metadata": {},
   "outputs": [],
   "source": []
  }
 ],
 "metadata": {
  "kernelspec": {
   "display_name": "Python 3",
   "language": "python",
   "name": "python3"
  },
  "language_info": {
   "codemirror_mode": {
    "name": "ipython",
    "version": 3
   },
   "file_extension": ".py",
   "mimetype": "text/x-python",
   "name": "python",
   "nbconvert_exporter": "python",
   "pygments_lexer": "ipython3",
   "version": "3.8.10"
  }
 },
 "nbformat": 4,
 "nbformat_minor": 4
}
