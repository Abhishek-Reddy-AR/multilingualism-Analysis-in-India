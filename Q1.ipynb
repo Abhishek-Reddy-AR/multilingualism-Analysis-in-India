{
 "cells": [
  {
   "cell_type": "code",
   "execution_count": 1,
   "metadata": {
    "execution": {
     "iopub.execute_input": "2021-11-09T05:43:25.929749Z",
     "iopub.status.busy": "2021-11-09T05:43:25.929390Z",
     "iopub.status.idle": "2021-11-09T05:43:26.218660Z",
     "shell.execute_reply": "2021-11-09T05:43:26.218319Z"
    }
   },
   "outputs": [],
   "source": [
    "#IMPORTING REQUIRED MODULES\n",
    "\n",
    "import pandas as pd\n",
    "import warnings\n",
    "warnings.filterwarnings('ignore')"
   ]
  },
  {
   "cell_type": "code",
   "execution_count": 2,
   "metadata": {
    "execution": {
     "iopub.execute_input": "2021-11-09T05:43:26.221343Z",
     "iopub.status.busy": "2021-11-09T05:43:26.221026Z",
     "iopub.status.idle": "2021-11-09T05:43:26.463970Z",
     "shell.execute_reply": "2021-11-09T05:43:26.463688Z"
    }
   },
   "outputs": [],
   "source": [
    "#reading the required data files(statewise population data and statewise bilingualism and trilingualism data)\n",
    "\n",
    "newdf=pd.read_excel(r'DDW-C18-0000.xlsx')\n",
    "totpop=pd.read_csv(r'DDW_PCA0000_2011_Indiastatedist.csv')"
   ]
  },
  {
   "cell_type": "code",
   "execution_count": 3,
   "metadata": {
    "execution": {
     "iopub.execute_input": "2021-11-09T05:43:26.466694Z",
     "iopub.status.busy": "2021-11-09T05:43:26.466371Z",
     "iopub.status.idle": "2021-11-09T05:43:26.468091Z",
     "shell.execute_reply": "2021-11-09T05:43:26.467771Z"
    }
   },
   "outputs": [],
   "source": [
    "#renaming the columns in statewise bilingualism and trilingualism data\n",
    "\n",
    "newnames=['statecode','districtcode','state','type','agegroup','2.persons','2.males','2.females','3.persons','3.males','3.females']\n",
    "\n",
    "newdf.columns=newnames"
   ]
  },
  {
   "cell_type": "code",
   "execution_count": 4,
   "metadata": {
    "execution": {
     "iopub.execute_input": "2021-11-09T05:43:26.470302Z",
     "iopub.status.busy": "2021-11-09T05:43:26.469985Z",
     "iopub.status.idle": "2021-11-09T05:43:26.471825Z",
     "shell.execute_reply": "2021-11-09T05:43:26.471506Z"
    }
   },
   "outputs": [],
   "source": [
    "#removing the rows that contain metadata\n",
    "\n",
    "newdf=newdf[5:]"
   ]
  },
  {
   "cell_type": "code",
   "execution_count": 5,
   "metadata": {
    "execution": {
     "iopub.execute_input": "2021-11-09T05:43:26.476331Z",
     "iopub.status.busy": "2021-11-09T05:43:26.476014Z",
     "iopub.status.idle": "2021-11-09T05:43:26.477746Z",
     "shell.execute_reply": "2021-11-09T05:43:26.477418Z"
    }
   },
   "outputs": [],
   "source": [
    "#choosing rows that have 'agegroup' and 'type' as total\n",
    "\n",
    "newdf=newdf[newdf['type']=='Total']\n",
    "newdf=newdf[newdf['agegroup']=='Total']"
   ]
  },
  {
   "cell_type": "code",
   "execution_count": 6,
   "metadata": {
    "execution": {
     "iopub.execute_input": "2021-11-09T05:43:26.485198Z",
     "iopub.status.busy": "2021-11-09T05:43:26.484813Z",
     "iopub.status.idle": "2021-11-09T05:43:26.487344Z",
     "shell.execute_reply": "2021-11-09T05:43:26.487005Z"
    }
   },
   "outputs": [
    {
     "data": {
      "text/plain": [
       "Index(['statecode', 'state', '2.persons', '3.persons'], dtype='object')"
      ]
     },
     "execution_count": 6,
     "metadata": {},
     "output_type": "execute_result"
    }
   ],
   "source": [
    "#selecting only the required columns\n",
    "\n",
    "newdf=newdf.iloc[:,[0,2,5,8]]\n",
    "\n",
    "#printing the selected column names\n",
    "\n",
    "newdf.columns"
   ]
  },
  {
   "cell_type": "code",
   "execution_count": 7,
   "metadata": {
    "execution": {
     "iopub.execute_input": "2021-11-09T05:43:26.490831Z",
     "iopub.status.busy": "2021-11-09T05:43:26.490513Z",
     "iopub.status.idle": "2021-11-09T05:43:26.492361Z",
     "shell.execute_reply": "2021-11-09T05:43:26.492036Z"
    }
   },
   "outputs": [],
   "source": [
    "#choosing total state population data rows only from population data\n",
    "\n",
    "totpop=totpop[totpop['Level']!='DISTRICT']\n",
    "totpop=totpop[totpop['TRU']=='Total']"
   ]
  },
  {
   "cell_type": "code",
   "execution_count": 8,
   "metadata": {
    "execution": {
     "iopub.execute_input": "2021-11-09T05:43:26.495885Z",
     "iopub.status.busy": "2021-11-09T05:43:26.495509Z",
     "iopub.status.idle": "2021-11-09T05:43:26.497760Z",
     "shell.execute_reply": "2021-11-09T05:43:26.497435Z"
    }
   },
   "outputs": [
    {
     "data": {
      "text/plain": [
       "Index(['Name', 'TOT_P'], dtype='object')"
      ]
     },
     "execution_count": 8,
     "metadata": {},
     "output_type": "execute_result"
    }
   ],
   "source": [
    "#selecting only the required columns\n",
    "\n",
    "totpop=totpop.iloc[:,[7,10]]\n",
    "\n",
    "#changing name 'india' to 'INDIA'\n",
    "\n",
    "totpop.iloc[0,0]='INDIA'\n",
    "\n",
    "#printing the selected column names\n",
    "\n",
    "totpop.columns"
   ]
  },
  {
   "cell_type": "code",
   "execution_count": 9,
   "metadata": {
    "execution": {
     "iopub.execute_input": "2021-11-09T05:43:26.502877Z",
     "iopub.status.busy": "2021-11-09T05:43:26.502557Z",
     "iopub.status.idle": "2021-11-09T05:43:26.504165Z",
     "shell.execute_reply": "2021-11-09T05:43:26.503847Z"
    }
   },
   "outputs": [],
   "source": [
    "#merging the data frames based on state names\n",
    "\n",
    "merged = pd.merge(left=newdf, right=totpop, left_on='state', right_on='Name')"
   ]
  },
  {
   "cell_type": "code",
   "execution_count": 10,
   "metadata": {
    "execution": {
     "iopub.execute_input": "2021-11-09T05:43:26.507184Z",
     "iopub.status.busy": "2021-11-09T05:43:26.506866Z",
     "iopub.status.idle": "2021-11-09T05:43:26.508644Z",
     "shell.execute_reply": "2021-11-09T05:43:26.508368Z"
    }
   },
   "outputs": [],
   "source": [
    "#converting strings to numeric values\n",
    "\n",
    "merged['2.persons']=pd.to_numeric(merged['2.persons'])\n",
    "merged['3.persons']=pd.to_numeric(merged['3.persons'])"
   ]
  },
  {
   "cell_type": "code",
   "execution_count": 11,
   "metadata": {
    "execution": {
     "iopub.execute_input": "2021-11-09T05:43:26.511943Z",
     "iopub.status.busy": "2021-11-09T05:43:26.511622Z",
     "iopub.status.idle": "2021-11-09T05:43:26.513076Z",
     "shell.execute_reply": "2021-11-09T05:43:26.513328Z"
    }
   },
   "outputs": [],
   "source": [
    "#calculating the no of people speaking only 1 lang and no of people speaking exactly 2 language by\n",
    "\n",
    "# no of ppl speaking exactly 2 langs=no of ppl speaking 2 or more langs - no of ppl speaking 3 or more langs\n",
    "\n",
    "merged['exact2']=merged['2.persons']-merged['3.persons']\n",
    "\n",
    "#no of ppl speaking exactly 1 lang= total no of ppl in that state-no of ppl speaking 2 or more langs\n",
    "\n",
    "merged['exact1']=merged['TOT_P']-merged['2.persons']"
   ]
  },
  {
   "cell_type": "code",
   "execution_count": 12,
   "metadata": {
    "execution": {
     "iopub.execute_input": "2021-11-09T05:43:26.517329Z",
     "iopub.status.busy": "2021-11-09T05:43:26.517001Z",
     "iopub.status.idle": "2021-11-09T05:43:26.518762Z",
     "shell.execute_reply": "2021-11-09T05:43:26.518494Z"
    }
   },
   "outputs": [],
   "source": [
    "#calculating the percentage of people speaking exactly one, exacly two and three or more languages in that state\n",
    "\n",
    "merged['exact1per']=merged['exact1']/merged['TOT_P']*100\n",
    "merged['exact2per']=merged['exact2']/merged['TOT_P']*100\n",
    "merged['3ormoreper']=merged['3.persons']/merged['TOT_P']*100"
   ]
  },
  {
   "cell_type": "code",
   "execution_count": 13,
   "metadata": {
    "execution": {
     "iopub.execute_input": "2021-11-09T05:43:26.521577Z",
     "iopub.status.busy": "2021-11-09T05:43:26.521257Z",
     "iopub.status.idle": "2021-11-09T05:43:26.522794Z",
     "shell.execute_reply": "2021-11-09T05:43:26.522470Z"
    }
   },
   "outputs": [],
   "source": [
    "#choosing only the required columns\n",
    "\n",
    "merged=merged.iloc[:,[0,-3,-2,-1]]"
   ]
  },
  {
   "cell_type": "code",
   "execution_count": 14,
   "metadata": {
    "execution": {
     "iopub.execute_input": "2021-11-09T05:43:26.525372Z",
     "iopub.status.busy": "2021-11-09T05:43:26.525052Z",
     "iopub.status.idle": "2021-11-09T05:43:26.526682Z",
     "shell.execute_reply": "2021-11-09T05:43:26.526358Z"
    }
   },
   "outputs": [],
   "source": [
    "#sorting the values based on statecode(initial columns)\n",
    "\n",
    "merged=merged.sort_values(by=['statecode'])"
   ]
  },
  {
   "cell_type": "code",
   "execution_count": 15,
   "metadata": {
    "execution": {
     "iopub.execute_input": "2021-11-09T05:43:26.529025Z",
     "iopub.status.busy": "2021-11-09T05:43:26.528705Z",
     "iopub.status.idle": "2021-11-09T05:43:26.530266Z",
     "shell.execute_reply": "2021-11-09T05:43:26.529943Z"
    }
   },
   "outputs": [],
   "source": [
    "#renaming the columns as required for the output file\n",
    "\n",
    "merged.columns=['state-code', 'percent-one', 'percent-two', 'percent-three']"
   ]
  },
  {
   "cell_type": "code",
   "execution_count": 16,
   "metadata": {
    "execution": {
     "iopub.execute_input": "2021-11-09T05:43:26.532783Z",
     "iopub.status.busy": "2021-11-09T05:43:26.532347Z",
     "iopub.status.idle": "2021-11-09T05:43:26.535450Z",
     "shell.execute_reply": "2021-11-09T05:43:26.535072Z"
    }
   },
   "outputs": [],
   "source": [
    "#writing the merged data frame into percent-india.csv file\n",
    "\n",
    "merged.to_csv('percent-india.csv',index=False)"
   ]
  },
  {
   "cell_type": "code",
   "execution_count": null,
   "metadata": {},
   "outputs": [],
   "source": []
  }
 ],
 "metadata": {
  "kernelspec": {
   "display_name": "Python 3",
   "language": "python",
   "name": "python3"
  },
  "language_info": {
   "codemirror_mode": {
    "name": "ipython",
    "version": 3
   },
   "file_extension": ".py",
   "mimetype": "text/x-python",
   "name": "python",
   "nbconvert_exporter": "python",
   "pygments_lexer": "ipython3",
   "version": "3.8.10"
  }
 },
 "nbformat": 4,
 "nbformat_minor": 4
}
