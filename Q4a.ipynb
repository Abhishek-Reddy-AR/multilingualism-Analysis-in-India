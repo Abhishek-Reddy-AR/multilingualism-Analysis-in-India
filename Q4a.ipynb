{
 "cells": [
  {
   "cell_type": "code",
   "execution_count": 1,
   "metadata": {
    "execution": {
     "iopub.execute_input": "2021-11-09T05:43:32.490379Z",
     "iopub.status.busy": "2021-11-09T05:43:32.490003Z",
     "iopub.status.idle": "2021-11-09T05:43:32.699319Z",
     "shell.execute_reply": "2021-11-09T05:43:32.699606Z"
    }
   },
   "outputs": [],
   "source": [
    "#IMPORTING REQUIRED MODULES\n",
    "\n",
    "import pandas as pd\n",
    "import warnings\n",
    "warnings.filterwarnings('ignore')"
   ]
  },
  {
   "cell_type": "code",
   "execution_count": 2,
   "metadata": {
    "execution": {
     "iopub.execute_input": "2021-11-09T05:43:32.703472Z",
     "iopub.status.busy": "2021-11-09T05:43:32.703129Z",
     "iopub.status.idle": "2021-11-09T05:43:32.704824Z",
     "shell.execute_reply": "2021-11-09T05:43:32.704490Z"
    }
   },
   "outputs": [],
   "source": [
    "#reading the output file of question 1 \n",
    "\n",
    "newdf=pd.read_csv(r'percent-india.csv')"
   ]
  },
  {
   "cell_type": "code",
   "execution_count": 3,
   "metadata": {
    "execution": {
     "iopub.execute_input": "2021-11-09T05:43:32.707756Z",
     "iopub.status.busy": "2021-11-09T05:43:32.707431Z",
     "iopub.status.idle": "2021-11-09T05:43:32.709041Z",
     "shell.execute_reply": "2021-11-09T05:43:32.708715Z"
    }
   },
   "outputs": [],
   "source": [
    "#calculating the ratio of no of people speaking three or more langs to no of people speaking exactly 2 langs\n",
    "\n",
    "newdf['3to2ratio']=newdf['percent-three']/newdf['percent-two']"
   ]
  },
  {
   "cell_type": "code",
   "execution_count": 4,
   "metadata": {
    "execution": {
     "iopub.execute_input": "2021-11-09T05:43:32.711843Z",
     "iopub.status.busy": "2021-11-09T05:43:32.711519Z",
     "iopub.status.idle": "2021-11-09T05:43:32.713024Z",
     "shell.execute_reply": "2021-11-09T05:43:32.712740Z"
    }
   },
   "outputs": [],
   "source": [
    "#sorting the data frame based on the 3to2 ratio in descending order\n",
    "\n",
    "newdf=newdf.sort_values(by=['3to2ratio'],ascending=False)"
   ]
  },
  {
   "cell_type": "code",
   "execution_count": 5,
   "metadata": {
    "execution": {
     "iopub.execute_input": "2021-11-09T05:43:32.716075Z",
     "iopub.status.busy": "2021-11-09T05:43:32.715749Z",
     "iopub.status.idle": "2021-11-09T05:43:32.717270Z",
     "shell.execute_reply": "2021-11-09T05:43:32.716940Z"
    }
   },
   "outputs": [],
   "source": [
    "#only selecting the top three state codes and the bottom three statecodes(in the reverse order) as specified in question\n",
    "\n",
    "adf=newdf.iloc[[0,1,2,-1,-2,-3],[0]]"
   ]
  },
  {
   "cell_type": "code",
   "execution_count": 6,
   "metadata": {
    "execution": {
     "iopub.execute_input": "2021-11-09T05:43:32.720489Z",
     "iopub.status.busy": "2021-11-09T05:43:32.720161Z",
     "iopub.status.idle": "2021-11-09T05:43:32.721809Z",
     "shell.execute_reply": "2021-11-09T05:43:32.721476Z"
    }
   },
   "outputs": [],
   "source": [
    "#writing adf data frame to 3-to-2-ratio.csv file\n",
    "\n",
    "adf.to_csv('3-to-2-ratio.csv',index=False)"
   ]
  },
  {
   "cell_type": "code",
   "execution_count": null,
   "metadata": {},
   "outputs": [],
   "source": []
  }
 ],
 "metadata": {
  "kernelspec": {
   "display_name": "Python 3",
   "language": "python",
   "name": "python3"
  },
  "language_info": {
   "codemirror_mode": {
    "name": "ipython",
    "version": 3
   },
   "file_extension": ".py",
   "mimetype": "text/x-python",
   "name": "python",
   "nbconvert_exporter": "python",
   "pygments_lexer": "ipython3",
   "version": "3.8.10"
  }
 },
 "nbformat": 4,
 "nbformat_minor": 4
}
