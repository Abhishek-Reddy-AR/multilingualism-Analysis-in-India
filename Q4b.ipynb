{
 "cells": [
  {
   "cell_type": "code",
   "execution_count": 1,
   "metadata": {
    "execution": {
     "iopub.execute_input": "2021-11-09T05:43:34.167057Z",
     "iopub.status.busy": "2021-11-09T05:43:34.166692Z",
     "iopub.status.idle": "2021-11-09T05:43:34.370772Z",
     "shell.execute_reply": "2021-11-09T05:43:34.370429Z"
    }
   },
   "outputs": [],
   "source": [
    "#IMPORTING REQUIRED MODULES\n",
    "\n",
    "import pandas as pd\n",
    "import warnings\n",
    "warnings.filterwarnings('ignore')"
   ]
  },
  {
   "cell_type": "code",
   "execution_count": 2,
   "metadata": {
    "execution": {
     "iopub.execute_input": "2021-11-09T05:43:34.373445Z",
     "iopub.status.busy": "2021-11-09T05:43:34.373121Z",
     "iopub.status.idle": "2021-11-09T05:43:34.375919Z",
     "shell.execute_reply": "2021-11-09T05:43:34.375643Z"
    }
   },
   "outputs": [],
   "source": [
    "#reading the output file of question 1 \n",
    "\n",
    "newdf=pd.read_csv(r'percent-india.csv')"
   ]
  },
  {
   "cell_type": "code",
   "execution_count": 3,
   "metadata": {
    "execution": {
     "iopub.execute_input": "2021-11-09T05:43:34.378744Z",
     "iopub.status.busy": "2021-11-09T05:43:34.378422Z",
     "iopub.status.idle": "2021-11-09T05:43:34.380056Z",
     "shell.execute_reply": "2021-11-09T05:43:34.379788Z"
    }
   },
   "outputs": [],
   "source": [
    "#calculating the ratio of no of people speaking exactly 2 langs to no of people speaking exactly 1 lang\n",
    "\n",
    "newdf['2to1ratio']=newdf['percent-two']/newdf['percent-one']"
   ]
  },
  {
   "cell_type": "code",
   "execution_count": 4,
   "metadata": {
    "execution": {
     "iopub.execute_input": "2021-11-09T05:43:34.382768Z",
     "iopub.status.busy": "2021-11-09T05:43:34.382446Z",
     "iopub.status.idle": "2021-11-09T05:43:34.384097Z",
     "shell.execute_reply": "2021-11-09T05:43:34.383772Z"
    }
   },
   "outputs": [],
   "source": [
    "#sorting the data frame based on the 2to1 ratio in descending order\n",
    "\n",
    "newdf=newdf.sort_values(by=['2to1ratio'],ascending=False)"
   ]
  },
  {
   "cell_type": "code",
   "execution_count": 5,
   "metadata": {
    "execution": {
     "iopub.execute_input": "2021-11-09T05:43:34.387772Z",
     "iopub.status.busy": "2021-11-09T05:43:34.387392Z",
     "iopub.status.idle": "2021-11-09T05:43:34.389458Z",
     "shell.execute_reply": "2021-11-09T05:43:34.389129Z"
    }
   },
   "outputs": [],
   "source": [
    "#only selecting the top three state codes and the bottom three statecodes(in the reverse order) as specified in question\n",
    "\n",
    "bdf=newdf.iloc[[0,1,2,-1,-2,-3],[0]]\n",
    "\n",
    "#writing bdf data frame to 2-to-1-ratio.csv file\n",
    "\n",
    "bdf.to_csv('2-to-1-ratio.csv',index=False)"
   ]
  },
  {
   "cell_type": "code",
   "execution_count": null,
   "metadata": {},
   "outputs": [],
   "source": []
  }
 ],
 "metadata": {
  "kernelspec": {
   "display_name": "Python 3",
   "language": "python",
   "name": "python3"
  },
  "language_info": {
   "codemirror_mode": {
    "name": "ipython",
    "version": 3
   },
   "file_extension": ".py",
   "mimetype": "text/x-python",
   "name": "python",
   "nbconvert_exporter": "python",
   "pygments_lexer": "ipython3",
   "version": "3.8.10"
  }
 },
 "nbformat": 4,
 "nbformat_minor": 4
}
