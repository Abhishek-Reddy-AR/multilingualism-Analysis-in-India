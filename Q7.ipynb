{
 "cells": [
  {
   "cell_type": "code",
   "execution_count": 1,
   "metadata": {
    "execution": {
     "iopub.execute_input": "2021-11-09T05:43:41.494253Z",
     "iopub.status.busy": "2021-11-09T05:43:41.493892Z",
     "iopub.status.idle": "2021-11-09T05:43:41.699074Z",
     "shell.execute_reply": "2021-11-09T05:43:41.698715Z"
    }
   },
   "outputs": [],
   "source": [
    "#importing required modules\n",
    "\n",
    "import pandas as pd"
   ]
  },
  {
   "cell_type": "code",
   "execution_count": 2,
   "metadata": {
    "execution": {
     "iopub.execute_input": "2021-11-09T05:43:41.703832Z",
     "iopub.status.busy": "2021-11-09T05:43:41.703493Z",
     "iopub.status.idle": "2021-11-09T05:43:41.705100Z",
     "shell.execute_reply": "2021-11-09T05:43:41.704770Z"
    }
   },
   "outputs": [],
   "source": [
    "#this function takes a dataframe associated with a state as input\n",
    "\n",
    "def onlymothertongue(df):\n",
    "    \n",
    "    #renaming columns\n",
    "    \n",
    "    df.columns=['statecode','statename','p.code','p.name','p.persons','p.males','p.females','s.code','s.name','s.persons','s.males','s.females','t.code','t.name','t.persons','t.males','t.females']\n",
    "    \n",
    "    #removing rows containing metadata\n",
    "    \n",
    "    df=df.iloc[5:,:]\n",
    "    \n",
    "    #as we require only mother tongue , we are selecting columns associated with it\n",
    "    \n",
    "    pdf=df.iloc[:,[3,4]]\n",
    "    \n",
    "    #removing rows containing na\n",
    "    \n",
    "    pdf=pdf.dropna()\n",
    "    \n",
    "    #creating a dictionary to store lang name as key and no of speakers having that lang as mother tongue as values\n",
    "    \n",
    "    d=dict()\n",
    "    \n",
    "    #looping through each row i.e each lang\n",
    "    \n",
    "    for i in range(len(pdf)):\n",
    "        \n",
    "        #if the lang is already present in dictionary then adding the new speakres value to the already stored value in dict\n",
    "        \n",
    "        if pdf.iloc[i,0] in d:\n",
    "            \n",
    "            d[pdf.iloc[i,0]]=d[pdf.iloc[i,0]]+pdf.iloc[i,1]\n",
    "        \n",
    "        #if the lang is not present in dict then adding it to the dict as key and speakers as value\n",
    "        \n",
    "        else:\n",
    "            \n",
    "            d[pdf.iloc[i,0]]=pdf.iloc[i,1]\n",
    "    \n",
    "    #returning the dictionary\n",
    "    \n",
    "    return d"
   ]
  },
  {
   "cell_type": "code",
   "execution_count": 3,
   "metadata": {
    "execution": {
     "iopub.execute_input": "2021-11-09T05:43:41.712107Z",
     "iopub.status.busy": "2021-11-09T05:43:41.711759Z",
     "iopub.status.idle": "2021-11-09T05:43:41.713392Z",
     "shell.execute_reply": "2021-11-09T05:43:41.713061Z"
    }
   },
   "outputs": [],
   "source": [
    "#this function takes a dataframe associated with a state as input\n",
    "\n",
    "def allthree(df):\n",
    "    \n",
    "    #renaming columns\n",
    "    \n",
    "    df.columns=['statecode','statename','p.code','p.name','p.persons','p.males','p.females','s.code','s.name','s.persons','s.males','s.females','t.code','t.name','t.persons','t.males','t.females']\n",
    "    \n",
    "    #removing rows containing metadata\n",
    "    \n",
    "    df=df.iloc[5:,:]\n",
    "    \n",
    "    #splitting data ino three different dataframes \n",
    "    \n",
    "    #this contain primary lang details i.e mother tounge\n",
    "    \n",
    "    pdf=df.iloc[:,[3,4]]\n",
    "    \n",
    "    #this contains 2nd lang details\n",
    "    \n",
    "    sdf=df.iloc[:,[8,9]]\n",
    "    \n",
    "    #this contains 3rd lang details\n",
    "    \n",
    "    tdf=df.iloc[:,[13,14]]\n",
    "    \n",
    "    \n",
    "    #dropping the rows containing na is all the three dataframes\n",
    "    \n",
    "    pdf=pdf.dropna()\n",
    "    sdf=sdf.dropna()\n",
    "    tdf=tdf.dropna()\n",
    "    \n",
    "    #creating a dictionary to store lang name as key and no of speakers speaking that lang as mother tongue or 2nd or 3rd\n",
    "    #as values in dict\n",
    "    \n",
    "    d=dict()\n",
    "    \n",
    "    #looping through each row in pdf\n",
    "    \n",
    "    for i in range(len(pdf)):\n",
    "        \n",
    "        #if the lang is already present in dictionary that adding the new speakres value to the already stored value in dict\n",
    "        \n",
    "        if pdf.iloc[i,0] in d:\n",
    "            \n",
    "            d[pdf.iloc[i,0]]=d[pdf.iloc[i,0]]+pdf.iloc[i,1]\n",
    "        \n",
    "        #if the lang is not present in dict then adding it to the dict as key and speakers as value\n",
    "        \n",
    "        else:\n",
    "            \n",
    "            d[pdf.iloc[i,0]]=pdf.iloc[i,1]\n",
    "    \n",
    "    #looping through each row in sdf\n",
    "    \n",
    "    for i in range(len(sdf)):\n",
    "        \n",
    "        #if the lang is already present in dictionary that adding the new speakres value to the already stored value in dict\n",
    "        \n",
    "        if sdf.iloc[i,0] in d:\n",
    "            \n",
    "            d[sdf.iloc[i,0]]=d[sdf.iloc[i,0]]+sdf.iloc[i,1]\n",
    "        \n",
    "        #if the lang is not present in dict then adding it to the dict as key and speakers as value\n",
    "        \n",
    "        else:\n",
    "            \n",
    "            d[sdf.iloc[i,0]]=sdf.iloc[i,1]\n",
    "            \n",
    "    #looping through each row in tdf\n",
    "    \n",
    "    for i in range(len(tdf)):\n",
    "        \n",
    "        #if the lang is already present in dictionary that adding the new speakres value to the already stored value in dict\n",
    "        \n",
    "        if tdf.iloc[i,0] in d:\n",
    "            \n",
    "            d[tdf.iloc[i,0]]=d[tdf.iloc[i,0]]+tdf.iloc[i,1]\n",
    "            \n",
    "        #if the lang is not present in dict then adding it to the dict as key and speakers as value\n",
    "        \n",
    "        else:\n",
    "            \n",
    "            d[tdf.iloc[i,0]]=tdf.iloc[i,1]\n",
    "            \n",
    "    #returning the dictionary\n",
    "    \n",
    "    return d"
   ]
  },
  {
   "cell_type": "code",
   "execution_count": 4,
   "metadata": {
    "execution": {
     "iopub.execute_input": "2021-11-09T05:43:41.717717Z",
     "iopub.status.busy": "2021-11-09T05:43:41.717376Z",
     "iopub.status.idle": "2021-11-09T05:43:41.719029Z",
     "shell.execute_reply": "2021-11-09T05:43:41.718698Z"
    }
   },
   "outputs": [],
   "source": [
    "#this function takes list of state dataframes,final dataframe row no where this region should be added\n",
    "#and statefunction which can either be onlymothertongue function or allthree function as input\n",
    "\n",
    "def regionfn(states,rowindex,statefunction):\n",
    "    \n",
    "    #creating a dictionary for the whole region\n",
    "    \n",
    "    gd=dict()\n",
    "    \n",
    "    #for each state in that region\n",
    "    \n",
    "    for i in states:\n",
    "        \n",
    "        #storing returned dict from statefunction in tempdf\n",
    "        \n",
    "        tempd=statefunction(i)\n",
    "        \n",
    "        #for a lang in tempdf dict\n",
    "        \n",
    "        for k in tempd:\n",
    "            \n",
    "            #if that lang is in gd dict\n",
    "            \n",
    "            if k in gd:\n",
    "                \n",
    "                #adding the previous stored value and the value returned from the current state\n",
    "                \n",
    "                gd[k]=gd[k]+tempd[k]\n",
    "                \n",
    "            #if the lang is not in gd dict\n",
    "            \n",
    "            else:\n",
    "                \n",
    "                #adding that lang to gd as key  and value returned from the current state as value to that key\n",
    "                \n",
    "                gd[k]=tempd[k]\n",
    "    \n",
    "    #stroing all the values of gd in l\n",
    "    \n",
    "    l=list(gd.values())\n",
    "    \n",
    "    #sorting l\n",
    "    \n",
    "    l.sort()\n",
    "    \n",
    "    #getting the top three most spoken langs in that region\n",
    "    \n",
    "    colindex=1\n",
    "    \n",
    "    for j in [-1,-2,-3]:\n",
    "        \n",
    "        for i in gd:\n",
    "            \n",
    "            #if that highest value matches a value in the gd dict\n",
    "            \n",
    "            if gd[i]==l[j]:\n",
    "                \n",
    "                #adding the matched key into the final dataframe\n",
    "                \n",
    "                finaldf.iloc[rowindex,colindex]=i\n",
    "                \n",
    "                #increasing col index \n",
    "                \n",
    "                colindex+=1"
   ]
  },
  {
   "cell_type": "code",
   "execution_count": 5,
   "metadata": {
    "execution": {
     "iopub.execute_input": "2021-11-09T05:43:41.725683Z",
     "iopub.status.busy": "2021-11-09T05:43:41.725337Z",
     "iopub.status.idle": "2021-11-09T05:43:50.744612Z",
     "shell.execute_reply": "2021-11-09T05:43:50.744267Z"
    }
   },
   "outputs": [],
   "source": [
    "#reading all the state files according to regions and storing the state dataframes in a list\n",
    "\n",
    "#north region\n",
    "\n",
    "jk=pd.read_excel(\"DDW-C17-0100.XLSX\")\n",
    "pn=pd.read_excel(\"DDW-C17-0300.XLSX\")\n",
    "hp=pd.read_excel(\"DDW-C17-0200.XLSX\")\n",
    "hr=pd.read_excel(\"DDW-C17-0600.XLSX\")\n",
    "uk=pd.read_excel(\"DDW-C17-0500.XLSX\")\n",
    "dh=pd.read_excel(\"DDW-C17-0700.XLSX\")\n",
    "ch=pd.read_excel(\"DDW-C17-0400.XLSX\")\n",
    "\n",
    "#list containing north states\n",
    "\n",
    "l1=[jk,pn,hp,hr,uk,dh,ch]\n",
    "\n",
    "#west region\n",
    "\n",
    "rj=pd.read_excel(\"DDW-C17-0800.XLSX\")\n",
    "gj=pd.read_excel(\"DDW-C17-2400.XLSX\")\n",
    "mh=pd.read_excel(\"DDW-C17-2700.XLSX\")\n",
    "go=pd.read_excel(\"DDW-C17-3000.XLSX\")\n",
    "dn=pd.read_excel(\"DDW-C17-2600.XLSX\")\n",
    "dd=pd.read_excel(\"DDW-C17-2500.XLSX\")\n",
    "\n",
    "#list containing west states\n",
    "\n",
    "l2=[rj,gj,mh,go,dn,dd]\n",
    "\n",
    "#central region\n",
    "\n",
    "mp=pd.read_excel(\"DDW-C17-2300.XLSX\")\n",
    "up=pd.read_excel(\"DDW-C17-0900.XLSX\")\n",
    "cg=pd.read_excel(\"DDW-C17-2200.XLSX\")\n",
    "\n",
    "#list containing central states\n",
    "\n",
    "l3=[mp,up,cg]\n",
    "\n",
    "#east region\n",
    "\n",
    "bh=pd.read_excel(\"DDW-C17-1000.XLSX\")\n",
    "wb=pd.read_excel(\"DDW-C17-1900.XLSX\")\n",
    "od=pd.read_excel(\"DDW-C17-2100.XLSX\")\n",
    "jh=pd.read_excel(\"DDW-C17-2000.XLSX\")\n",
    "\n",
    "#list containing east states\n",
    "\n",
    "l4=[bh,wb,od,jh]\n",
    "\n",
    "#south region\n",
    "\n",
    "kt=pd.read_excel(\"DDW-C17-2900.XLSX\")\n",
    "ap=pd.read_excel(\"DDW-C17-2800.XLSX\")\n",
    "tn=pd.read_excel(\"DDW-C17-3200.XLSX\")\n",
    "kl=pd.read_excel(\"DDW-C17-3300.XLSX\")\n",
    "lk=pd.read_excel(\"DDW-C17-3100.XLSX\")\n",
    "po=pd.read_excel(\"DDW-C17-3400.XLSX\")\n",
    "\n",
    "#list containing south states\n",
    "\n",
    "l5=[kt,ap,tn,kl,lk,po]\n",
    "\n",
    "#north east region\n",
    "\n",
    "ass=pd.read_excel(\"DDW-C17-1800.XLSX\")\n",
    "sk=pd.read_excel(\"DDW-C17-1100.XLSX\")\n",
    "mg=pd.read_excel(\"DDW-C17-1700.XLSX\")\n",
    "tr=pd.read_excel(\"DDW-C17-1600.XLSX\")\n",
    "ar=pd.read_excel(\"DDW-C17-1200.XLSX\")\n",
    "mn=pd.read_excel(\"DDW-C17-1400.XLSX\")\n",
    "ng=pd.read_excel(\"DDW-C17-1300.XLSX\")\n",
    "mz=pd.read_excel(\"DDW-C17-1500.XLSX\")\n",
    "an=pd.read_excel(\"DDW-C17-3500.XLSX\")\n",
    "\n",
    "#list containing north east states\n",
    "\n",
    "l6=[ass,sk,mg,tr,ar,mn,ng,mz,an]"
   ]
  },
  {
   "cell_type": "code",
   "execution_count": 6,
   "metadata": {
    "execution": {
     "iopub.execute_input": "2021-11-09T05:43:50.748939Z",
     "iopub.status.busy": "2021-11-09T05:43:50.748614Z",
     "iopub.status.idle": "2021-11-09T05:43:50.749854Z",
     "shell.execute_reply": "2021-11-09T05:43:50.750121Z"
    }
   },
   "outputs": [],
   "source": [
    "#creating a final data frame with columns for part a\n",
    "\n",
    "finaldf=pd.DataFrame(columns=['region','language-1','language-2','language-3'])\n",
    "\n",
    "#adding region column values into dataframe\n",
    "\n",
    "finaldf['region']=['North','West','Central','East','South','North-East']"
   ]
  },
  {
   "cell_type": "code",
   "execution_count": 7,
   "metadata": {
    "execution": {
     "iopub.execute_input": "2021-11-09T05:43:50.772091Z",
     "iopub.status.busy": "2021-11-09T05:43:50.765793Z",
     "iopub.status.idle": "2021-11-09T05:43:50.956854Z",
     "shell.execute_reply": "2021-11-09T05:43:50.956503Z"
    }
   },
   "outputs": [],
   "source": [
    "#calling region function by passing onlymothertongue function as statefunction(part a)\n",
    "\n",
    "regionfn(l1,0,onlymothertongue)\n",
    "regionfn(l2,1,onlymothertongue)\n",
    "regionfn(l3,2,onlymothertongue)\n",
    "regionfn(l4,3,onlymothertongue)\n",
    "regionfn(l5,4,onlymothertongue)\n",
    "regionfn(l6,5,onlymothertongue)"
   ]
  },
  {
   "cell_type": "code",
   "execution_count": 8,
   "metadata": {
    "execution": {
     "iopub.execute_input": "2021-11-09T05:43:50.959278Z",
     "iopub.status.busy": "2021-11-09T05:43:50.958862Z",
     "iopub.status.idle": "2021-11-09T05:43:50.960894Z",
     "shell.execute_reply": "2021-11-09T05:43:50.960570Z"
    }
   },
   "outputs": [],
   "source": [
    "#sorting based on first column\n",
    "\n",
    "finaldf=finaldf.sort_values('region')"
   ]
  },
  {
   "cell_type": "code",
   "execution_count": 9,
   "metadata": {
    "execution": {
     "iopub.execute_input": "2021-11-09T05:43:50.963180Z",
     "iopub.status.busy": "2021-11-09T05:43:50.962788Z",
     "iopub.status.idle": "2021-11-09T05:43:50.965511Z",
     "shell.execute_reply": "2021-11-09T05:43:50.965171Z"
    }
   },
   "outputs": [],
   "source": [
    "#writing the final dataframe to region-india1.csv file\n",
    "\n",
    "finaldf.to_csv('region-india-a.csv',index=False)"
   ]
  },
  {
   "cell_type": "code",
   "execution_count": 10,
   "metadata": {
    "execution": {
     "iopub.execute_input": "2021-11-09T05:43:50.969772Z",
     "iopub.status.busy": "2021-11-09T05:43:50.969445Z",
     "iopub.status.idle": "2021-11-09T05:43:50.971097Z",
     "shell.execute_reply": "2021-11-09T05:43:50.970754Z"
    }
   },
   "outputs": [],
   "source": [
    "#recreating  final data frame with columns for part b\n",
    "\n",
    "finaldf=pd.DataFrame(columns=['region','language-1','language-2','language-3'])\n",
    "\n",
    "#adding region column values into dataframe\n",
    "\n",
    "finaldf['region']=['North','West','Central','East','South','North-East']"
   ]
  },
  {
   "cell_type": "code",
   "execution_count": 11,
   "metadata": {
    "execution": {
     "iopub.execute_input": "2021-11-09T05:43:50.975653Z",
     "iopub.status.busy": "2021-11-09T05:43:50.974807Z",
     "iopub.status.idle": "2021-11-09T05:43:56.745652Z",
     "shell.execute_reply": "2021-11-09T05:43:56.745303Z"
    }
   },
   "outputs": [],
   "source": [
    "#calling region function by passing allthree function as statefunction(part b)\n",
    "\n",
    "regionfn(l1,0,allthree)\n",
    "regionfn(l2,1,allthree)\n",
    "regionfn(l3,2,allthree)\n",
    "regionfn(l4,3,allthree)\n",
    "regionfn(l5,4,allthree)\n",
    "regionfn(l6,5,allthree)"
   ]
  },
  {
   "cell_type": "code",
   "execution_count": 12,
   "metadata": {
    "execution": {
     "iopub.execute_input": "2021-11-09T05:43:56.748324Z",
     "iopub.status.busy": "2021-11-09T05:43:56.747998Z",
     "iopub.status.idle": "2021-11-09T05:43:56.749703Z",
     "shell.execute_reply": "2021-11-09T05:43:56.749373Z"
    }
   },
   "outputs": [],
   "source": [
    "#sorting based on first column\n",
    "\n",
    "finaldf=finaldf.sort_values('region')"
   ]
  },
  {
   "cell_type": "code",
   "execution_count": 13,
   "metadata": {
    "execution": {
     "iopub.execute_input": "2021-11-09T05:43:56.752397Z",
     "iopub.status.busy": "2021-11-09T05:43:56.751888Z",
     "iopub.status.idle": "2021-11-09T05:43:56.754135Z",
     "shell.execute_reply": "2021-11-09T05:43:56.753804Z"
    }
   },
   "outputs": [],
   "source": [
    "#writing the final dataframe to region-india1.csv file\n",
    "\n",
    "finaldf.to_csv('region-india-b.csv',index=False)"
   ]
  },
  {
   "cell_type": "code",
   "execution_count": null,
   "metadata": {},
   "outputs": [],
   "source": []
  }
 ],
 "metadata": {
  "kernelspec": {
   "display_name": "Python 3",
   "language": "python",
   "name": "python3"
  },
  "language_info": {
   "codemirror_mode": {
    "name": "ipython",
    "version": 3
   },
   "file_extension": ".py",
   "mimetype": "text/x-python",
   "name": "python",
   "nbconvert_exporter": "python",
   "pygments_lexer": "ipython3",
   "version": "3.8.10"
  }
 },
 "nbformat": 4,
 "nbformat_minor": 4
}
